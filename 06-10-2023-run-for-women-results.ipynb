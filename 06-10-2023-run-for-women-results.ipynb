{
 "cells": [
  {
   "cell_type": "code",
   "execution_count": 1,
   "id": "28dc4809",
   "metadata": {},
   "outputs": [],
   "source": [
    "import requests\n",
    "from bs4 import BeautifulSoup\n",
    "import re\n",
    "\n",
    "import pandas as pd\n",
    "import numpy as np\n",
    "import matplotlib.pylab as plt\n",
    "import seaborn as sns"
   ]
  },
  {
   "cell_type": "markdown",
   "id": "9da78371",
   "metadata": {},
   "source": [
    "## 1. Collect data from website"
   ]
  },
  {
   "cell_type": "code",
   "execution_count": 2,
   "id": "02e76d71",
   "metadata": {},
   "outputs": [],
   "source": [
    "# set params\n",
    "urls = [\"https://startlinetiming.com/en/races/2023/rfw_toronto/event/10K\",\n",
    "        \"https://startlinetiming.com/en/races/2023/rfw_toronto/event/5K\"]\n",
    "\n",
    "ua = {\n",
    "    \"User-Agent\": \"Mozilla/5.0 (Windows NT 10.0; Win64; x64) AppleWebKit/537.36 (KHTML, like Gecko) Chrome/91.0.4472.124 Safari/537.36\"\n",
    "}"
   ]
  },
  {
   "cell_type": "code",
   "execution_count": 3,
   "id": "2fdb2805",
   "metadata": {},
   "outputs": [],
   "source": [
    "def get_data(url):\n",
    "    response = requests.get(url, headers=ua)\n",
    "    soup = BeautifulSoup(response.content, \"html.parser\")\n",
    "\n",
    "    table = soup.find(\"table\")\n",
    "\n",
    "    headers = []\n",
    "    for row in table.find_all(\"th\"):\n",
    "        headers.append(row.text.strip())\n",
    "\n",
    "    data = []\n",
    "\n",
    "    for row in table.find_all(\"tr\"):\n",
    "        row_data = [cell.text.strip() for cell in row.find_all(\"td\")]\n",
    "        row_data = [re.sub(r\"\\n+\", lambda match: \"\\n\" if match.start() != 0 else \"\", l) for l in row_data]\n",
    "        row_data = [l.replace(\"\\n\", \"; \") for l in row_data]\n",
    "\n",
    "        data.append(row_data)\n",
    "\n",
    "    return headers, data"
   ]
  },
  {
   "cell_type": "code",
   "execution_count": 4,
   "id": "f2c86d87",
   "metadata": {},
   "outputs": [],
   "source": [
    "data = []\n",
    "headers = []\n",
    "\n",
    "for url in urls:\n",
    "    h, d = get_data(url)\n",
    "    headers.append(h)\n",
    "    data.append(d)"
   ]
  },
  {
   "cell_type": "code",
   "execution_count": 5,
   "id": "3a39cbb6",
   "metadata": {},
   "outputs": [],
   "source": [
    "df10k = pd.DataFrame(data[0], columns=headers[0])\n",
    "df5k = pd.DataFrame(data[1], columns=headers[1])"
   ]
  },
  {
   "cell_type": "code",
   "execution_count": 6,
   "id": "7432fb77",
   "metadata": {},
   "outputs": [],
   "source": [
    "df = pd.concat([df10k,df5k])"
   ]
  },
  {
   "cell_type": "markdown",
   "id": "0f5ee41c",
   "metadata": {},
   "source": [
    "## 2. Clean and prep data"
   ]
  },
  {
   "cell_type": "code",
   "execution_count": 7,
   "id": "d757bd84",
   "metadata": {},
   "outputs": [],
   "source": [
    "# get location from name\n",
    "df['Location'] = df['Name'].apply(lambda x: x.split(\"; \")[1])\n",
    "\n",
    "# get city from location\n",
    "df['City'] = df['Location'].apply(lambda x: x.split(',')[0])"
   ]
  },
  {
   "cell_type": "code",
   "execution_count": 8,
   "id": "0165b63e",
   "metadata": {
    "scrolled": true
   },
   "outputs": [],
   "source": [
    "# get gender and age from division\n",
    "df['Gender'] = df['Division'].apply(lambda x: x[0])\n",
    "df['Age'] = df['Division'].apply(lambda x: x[1:3]+'-'+x[3:])"
   ]
  },
  {
   "cell_type": "code",
   "execution_count": 9,
   "id": "6de5d21b",
   "metadata": {},
   "outputs": [],
   "source": [
    "df.drop(columns=['Name','Location'],inplace=True)"
   ]
  },
  {
   "cell_type": "code",
   "execution_count": 10,
   "id": "c78ef49d",
   "metadata": {},
   "outputs": [],
   "source": [
    "# remove rows w/o age\n",
    "df = df[df['Age'] != '99-99'].copy()"
   ]
  },
  {
   "cell_type": "code",
   "execution_count": 11,
   "id": "3e358b49",
   "metadata": {},
   "outputs": [
    {
     "data": {
      "text/html": [
       "<div>\n",
       "<style scoped>\n",
       "    .dataframe tbody tr th:only-of-type {\n",
       "        vertical-align: middle;\n",
       "    }\n",
       "\n",
       "    .dataframe tbody tr th {\n",
       "        vertical-align: top;\n",
       "    }\n",
       "\n",
       "    .dataframe thead th {\n",
       "        text-align: right;\n",
       "    }\n",
       "</style>\n",
       "<table border=\"1\" class=\"dataframe\">\n",
       "  <thead>\n",
       "    <tr style=\"text-align: right;\">\n",
       "      <th></th>\n",
       "      <th>Event</th>\n",
       "      <th>Place</th>\n",
       "      <th>Gun Time</th>\n",
       "      <th>Race #</th>\n",
       "      <th>Division</th>\n",
       "      <th>Place/Gender</th>\n",
       "      <th>Place/Division</th>\n",
       "      <th>Chip Time</th>\n",
       "      <th>City</th>\n",
       "      <th>Gender</th>\n",
       "      <th>Age</th>\n",
       "    </tr>\n",
       "  </thead>\n",
       "  <tbody>\n",
       "    <tr>\n",
       "      <th>0</th>\n",
       "      <td>10K</td>\n",
       "      <td>1/374</td>\n",
       "      <td>0:39:03</td>\n",
       "      <td>15946</td>\n",
       "      <td>M3039</td>\n",
       "      <td>1/108</td>\n",
       "      <td>1/49</td>\n",
       "      <td>0:39:00</td>\n",
       "      <td>Toronto</td>\n",
       "      <td>M</td>\n",
       "      <td>30-39</td>\n",
       "    </tr>\n",
       "    <tr>\n",
       "      <th>1</th>\n",
       "      <td>10K</td>\n",
       "      <td>2/374</td>\n",
       "      <td>0:39:13</td>\n",
       "      <td>16066</td>\n",
       "      <td>F3039</td>\n",
       "      <td>1/263</td>\n",
       "      <td>1/98</td>\n",
       "      <td>0:38:29</td>\n",
       "      <td>Markham</td>\n",
       "      <td>F</td>\n",
       "      <td>30-39</td>\n",
       "    </tr>\n",
       "    <tr>\n",
       "      <th>2</th>\n",
       "      <td>10K</td>\n",
       "      <td>3/374</td>\n",
       "      <td>0:39:14</td>\n",
       "      <td>16065</td>\n",
       "      <td>F4049</td>\n",
       "      <td>2/263</td>\n",
       "      <td>1/58</td>\n",
       "      <td>0:38:28</td>\n",
       "      <td>Toronto</td>\n",
       "      <td>F</td>\n",
       "      <td>40-49</td>\n",
       "    </tr>\n",
       "    <tr>\n",
       "      <th>3</th>\n",
       "      <td>10K</td>\n",
       "      <td>4/374</td>\n",
       "      <td>0:40:18</td>\n",
       "      <td>16126</td>\n",
       "      <td>M3039</td>\n",
       "      <td>2/108</td>\n",
       "      <td>2/49</td>\n",
       "      <td>0:40:15</td>\n",
       "      <td>Toronto</td>\n",
       "      <td>M</td>\n",
       "      <td>30-39</td>\n",
       "    </tr>\n",
       "    <tr>\n",
       "      <th>4</th>\n",
       "      <td>10K</td>\n",
       "      <td>5/374</td>\n",
       "      <td>0:40:24</td>\n",
       "      <td>15342</td>\n",
       "      <td>M2029</td>\n",
       "      <td>3/108</td>\n",
       "      <td>1/25</td>\n",
       "      <td>0:40:15</td>\n",
       "      <td>North York</td>\n",
       "      <td>M</td>\n",
       "      <td>20-29</td>\n",
       "    </tr>\n",
       "  </tbody>\n",
       "</table>\n",
       "</div>"
      ],
      "text/plain": [
       "  Event  Place Gun Time Race # Division Place/Gender Place/Division Chip Time  \\\n",
       "0   10K  1/374  0:39:03  15946    M3039        1/108           1/49   0:39:00   \n",
       "1   10K  2/374  0:39:13  16066    F3039        1/263           1/98   0:38:29   \n",
       "2   10K  3/374  0:39:14  16065    F4049        2/263           1/58   0:38:28   \n",
       "3   10K  4/374  0:40:18  16126    M3039        2/108           2/49   0:40:15   \n",
       "4   10K  5/374  0:40:24  15342    M2029        3/108           1/25   0:40:15   \n",
       "\n",
       "         City Gender    Age  \n",
       "0     Toronto      M  30-39  \n",
       "1     Markham      F  30-39  \n",
       "2     Toronto      F  40-49  \n",
       "3     Toronto      M  30-39  \n",
       "4  North York      M  20-29  "
      ]
     },
     "execution_count": 11,
     "metadata": {},
     "output_type": "execute_result"
    }
   ],
   "source": [
    "df.head()"
   ]
  },
  {
   "cell_type": "markdown",
   "id": "b975fd25",
   "metadata": {},
   "source": [
    "## 3. Explore and find insights"
   ]
  },
  {
   "cell_type": "code",
   "execution_count": 12,
   "id": "bc464824",
   "metadata": {},
   "outputs": [],
   "source": [
    "sns.set()\n",
    "%matplotlib inline"
   ]
  },
  {
   "cell_type": "markdown",
   "id": "11d9ce40",
   "metadata": {},
   "source": [
    "### The 10K skewed younger than the 5K"
   ]
  },
  {
   "cell_type": "code",
   "execution_count": 13,
   "id": "e2c7e7bf",
   "metadata": {
    "scrolled": false
   },
   "outputs": [
    {
     "data": {
      "text/plain": [
       "array([<Axes: title={'center': '10K'}>, <Axes: title={'center': '5K'}>],\n",
       "      dtype=object)"
      ]
     },
     "execution_count": 13,
     "metadata": {},
     "output_type": "execute_result"
    },
    {
     "data": {
      "image/png": "[encoded data removed]",
      "text/plain": [
       "<Figure size 640x480 with 2 Axes>"
      ]
     },
     "metadata": {},
     "output_type": "display_data"
    }
   ],
   "source": [
    "df.sort_values(by='Age').hist(column='Age', by='Event')"
   ]
  },
  {
   "cell_type": "markdown",
   "id": "db944ff4",
   "metadata": {},
   "source": [
    "### There was a similar distribution of males and females in each race"
   ]
  },
  {
   "cell_type": "code",
   "execution_count": 14,
   "id": "6fc44087",
   "metadata": {
    "scrolled": false
   },
   "outputs": [
    {
     "data": {
      "text/html": [
       "<div>\n",
       "<style scoped>\n",
       "    .dataframe tbody tr th:only-of-type {\n",
       "        vertical-align: middle;\n",
       "    }\n",
       "\n",
       "    .dataframe tbody tr th {\n",
       "        vertical-align: top;\n",
       "    }\n",
       "\n",
       "    .dataframe thead th {\n",
       "        text-align: right;\n",
       "    }\n",
       "</style>\n",
       "<table border=\"1\" class=\"dataframe\">\n",
       "  <thead>\n",
       "    <tr style=\"text-align: right;\">\n",
       "      <th>Gender</th>\n",
       "      <th>F</th>\n",
       "      <th>M</th>\n",
       "    </tr>\n",
       "    <tr>\n",
       "      <th>Event</th>\n",
       "      <th></th>\n",
       "      <th></th>\n",
       "    </tr>\n",
       "  </thead>\n",
       "  <tbody>\n",
       "    <tr>\n",
       "      <th>10K</th>\n",
       "      <td>34.3</td>\n",
       "      <td>14.1</td>\n",
       "    </tr>\n",
       "    <tr>\n",
       "      <th>5K</th>\n",
       "      <td>35.2</td>\n",
       "      <td>16.3</td>\n",
       "    </tr>\n",
       "  </tbody>\n",
       "</table>\n",
       "</div>"
      ],
      "text/plain": [
       "Gender     F     M\n",
       "Event             \n",
       "10K     34.3  14.1\n",
       "5K      35.2  16.3"
      ]
     },
     "execution_count": 14,
     "metadata": {},
     "output_type": "execute_result"
    }
   ],
   "source": [
    "df.groupby(['Event', 'Gender'])['Gender'].count().transform(lambda x: round(x/x.sum() * 100, 1)).rename\\\n",
    "('perc').reset_index().pivot(index='Event', columns='Gender', values='perc')"
   ]
  },
  {
   "cell_type": "code",
   "execution_count": 15,
   "id": "ac200288",
   "metadata": {},
   "outputs": [],
   "source": [
    "df['Gun Time_dt'] = pd.to_datetime(df['Gun Time'])"
   ]
  },
  {
   "cell_type": "code",
   "execution_count": 16,
   "id": "fb49741d",
   "metadata": {},
   "outputs": [],
   "source": [
    "df['Gun Time_m'] = round((df['Gun Time_dt'].dt.hour*3600 + df['Gun Time_dt'].dt.minute*60 + df['Gun Time_dt'].dt.second)/60, 1)\n"
   ]
  },
  {
   "cell_type": "code",
   "execution_count": 17,
   "id": "b61488b5",
   "metadata": {
    "scrolled": true
   },
   "outputs": [],
   "source": [
    "pd.set_option('display.max_rows', 100)"
   ]
  },
  {
   "cell_type": "code",
   "execution_count": 18,
   "id": "ed414e60",
   "metadata": {},
   "outputs": [
    {
     "data": {
      "text/html": [
       "<div>\n",
       "<style scoped>\n",
       "    .dataframe tbody tr th:only-of-type {\n",
       "        vertical-align: middle;\n",
       "    }\n",
       "\n",
       "    .dataframe tbody tr th {\n",
       "        vertical-align: top;\n",
       "    }\n",
       "\n",
       "    .dataframe thead th {\n",
       "        text-align: right;\n",
       "    }\n",
       "</style>\n",
       "<table border=\"1\" class=\"dataframe\">\n",
       "  <thead>\n",
       "    <tr style=\"text-align: right;\">\n",
       "      <th></th>\n",
       "      <th>Event</th>\n",
       "      <th>Place</th>\n",
       "      <th>Gun Time</th>\n",
       "      <th>Race #</th>\n",
       "      <th>Division</th>\n",
       "      <th>Place/Gender</th>\n",
       "      <th>Place/Division</th>\n",
       "      <th>Chip Time</th>\n",
       "      <th>City</th>\n",
       "      <th>Gender</th>\n",
       "      <th>Age</th>\n",
       "      <th>Gun Time_dt</th>\n",
       "      <th>Gun Time_m</th>\n",
       "    </tr>\n",
       "  </thead>\n",
       "  <tbody>\n",
       "    <tr>\n",
       "      <th>0</th>\n",
       "      <td>10K</td>\n",
       "      <td>1/374</td>\n",
       "      <td>0:39:03</td>\n",
       "      <td>15946</td>\n",
       "      <td>M3039</td>\n",
       "      <td>1/108</td>\n",
       "      <td>1/49</td>\n",
       "      <td>0:39:00</td>\n",
       "      <td>Toronto</td>\n",
       "      <td>M</td>\n",
       "      <td>30-39</td>\n",
       "      <td>2023-06-11 00:39:03</td>\n",
       "      <td>39.0</td>\n",
       "    </tr>\n",
       "    <tr>\n",
       "      <th>1</th>\n",
       "      <td>10K</td>\n",
       "      <td>2/374</td>\n",
       "      <td>0:39:13</td>\n",
       "      <td>16066</td>\n",
       "      <td>F3039</td>\n",
       "      <td>1/263</td>\n",
       "      <td>1/98</td>\n",
       "      <td>0:38:29</td>\n",
       "      <td>Markham</td>\n",
       "      <td>F</td>\n",
       "      <td>30-39</td>\n",
       "      <td>2023-06-11 00:39:13</td>\n",
       "      <td>39.2</td>\n",
       "    </tr>\n",
       "    <tr>\n",
       "      <th>2</th>\n",
       "      <td>10K</td>\n",
       "      <td>3/374</td>\n",
       "      <td>0:39:14</td>\n",
       "      <td>16065</td>\n",
       "      <td>F4049</td>\n",
       "      <td>2/263</td>\n",
       "      <td>1/58</td>\n",
       "      <td>0:38:28</td>\n",
       "      <td>Toronto</td>\n",
       "      <td>F</td>\n",
       "      <td>40-49</td>\n",
       "      <td>2023-06-11 00:39:14</td>\n",
       "      <td>39.2</td>\n",
       "    </tr>\n",
       "    <tr>\n",
       "      <th>3</th>\n",
       "      <td>10K</td>\n",
       "      <td>4/374</td>\n",
       "      <td>0:40:18</td>\n",
       "      <td>16126</td>\n",
       "      <td>M3039</td>\n",
       "      <td>2/108</td>\n",
       "      <td>2/49</td>\n",
       "      <td>0:40:15</td>\n",
       "      <td>Toronto</td>\n",
       "      <td>M</td>\n",
       "      <td>30-39</td>\n",
       "      <td>2023-06-11 00:40:18</td>\n",
       "      <td>40.3</td>\n",
       "    </tr>\n",
       "    <tr>\n",
       "      <th>4</th>\n",
       "      <td>10K</td>\n",
       "      <td>5/374</td>\n",
       "      <td>0:40:24</td>\n",
       "      <td>15342</td>\n",
       "      <td>M2029</td>\n",
       "      <td>3/108</td>\n",
       "      <td>1/25</td>\n",
       "      <td>0:40:15</td>\n",
       "      <td>North York</td>\n",
       "      <td>M</td>\n",
       "      <td>20-29</td>\n",
       "      <td>2023-06-11 00:40:24</td>\n",
       "      <td>40.4</td>\n",
       "    </tr>\n",
       "  </tbody>\n",
       "</table>\n",
       "</div>"
      ],
      "text/plain": [
       "  Event  Place Gun Time Race # Division Place/Gender Place/Division Chip Time  \\\n",
       "0   10K  1/374  0:39:03  15946    M3039        1/108           1/49   0:39:00   \n",
       "1   10K  2/374  0:39:13  16066    F3039        1/263           1/98   0:38:29   \n",
       "2   10K  3/374  0:39:14  16065    F4049        2/263           1/58   0:38:28   \n",
       "3   10K  4/374  0:40:18  16126    M3039        2/108           2/49   0:40:15   \n",
       "4   10K  5/374  0:40:24  15342    M2029        3/108           1/25   0:40:15   \n",
       "\n",
       "         City Gender    Age         Gun Time_dt  Gun Time_m  \n",
       "0     Toronto      M  30-39 2023-06-11 00:39:03        39.0  \n",
       "1     Markham      F  30-39 2023-06-11 00:39:13        39.2  \n",
       "2     Toronto      F  40-49 2023-06-11 00:39:14        39.2  \n",
       "3     Toronto      M  30-39 2023-06-11 00:40:18        40.3  \n",
       "4  North York      M  20-29 2023-06-11 00:40:24        40.4  "
      ]
     },
     "execution_count": 18,
     "metadata": {},
     "output_type": "execute_result"
    }
   ],
   "source": [
    "df.head()"
   ]
  },
  {
   "cell_type": "markdown",
   "id": "83306534",
   "metadata": {},
   "source": [
    "### The 5K was finished in 20 to 40 mins, whereas the 10K took between 40 and 90 mins"
   ]
  },
  {
   "cell_type": "code",
   "execution_count": 19,
   "id": "16d1a7dc",
   "metadata": {},
   "outputs": [
    {
     "data": {
      "text/plain": [
       "<Axes: xlabel='Gun Time_m', ylabel='Count'>"
      ]
     },
     "execution_count": 19,
     "metadata": {},
     "output_type": "execute_result"
    },
    {
     "data": {
      "image/png": "[encoded data removed]",
      "text/plain": [
       "<Figure size 640x480 with 1 Axes>"
      ]
     },
     "metadata": {},
     "output_type": "display_data"
    }
   ],
   "source": [
    "sns.histplot(x='Gun Time_m', data=df, hue='Event', binwidth=5, binrange=[0,100])"
   ]
  },
  {
   "cell_type": "markdown",
   "id": "ef31783e",
   "metadata": {},
   "source": [
    "### Overall, Male runners finished earlier than female runners in the 5K\n",
    "\n",
    "### There were two groups of Male and Female runners respectively – those who finished before or after 35 mins"
   ]
  },
  {
   "cell_type": "code",
   "execution_count": 20,
   "id": "5127b048",
   "metadata": {},
   "outputs": [
    {
     "data": {
      "text/plain": [
       "<Axes: xlabel='Gun Time_m', ylabel='Count'>"
      ]
     },
     "execution_count": 20,
     "metadata": {},
     "output_type": "execute_result"
    },
    {
     "data": {
      "image/png": "[encoded data removed]",
      "text/plain": [
       "<Figure size 640x480 with 1 Axes>"
      ]
     },
     "metadata": {},
     "output_type": "display_data"
    }
   ],
   "source": [
    "sns.histplot(x='Gun Time_m', data=df[df['Event']=='5K'], hue='Gender', binwidth=1, binrange=[10,50])"
   ]
  },
  {
   "cell_type": "markdown",
   "id": "03bcb6f4",
   "metadata": {},
   "source": [
    "### Male runners finished earlier than Female runners in the 10K\n",
    "\n",
    "### However, there were plenty of outliers, with more female runners finishing before male runners for the earliest times (< 45 mins)"
   ]
  },
  {
   "cell_type": "code",
   "execution_count": 21,
   "id": "fa95a720",
   "metadata": {
    "scrolled": false
   },
   "outputs": [
    {
     "data": {
      "text/plain": [
       "<Axes: xlabel='Gun Time_m', ylabel='Count'>"
      ]
     },
     "execution_count": 21,
     "metadata": {},
     "output_type": "execute_result"
    },
    {
     "data": {
      "image/png": "[encoded data removed]",
      "text/plain": [
       "<Figure size 640x480 with 1 Axes>"
      ]
     },
     "metadata": {},
     "output_type": "display_data"
    }
   ],
   "source": [
    "sns.histplot(x='Gun Time_m', data=df[df['Event']=='10K'], hue='Gender', binwidth=5, binrange=[20,100])"
   ]
  },
  {
   "cell_type": "code",
   "execution_count": 22,
   "id": "89ec8090",
   "metadata": {},
   "outputs": [],
   "source": [
    "gender_gap_o = df.groupby(['Event','Age','Gender'])['Gun Time_m'].mean().round(1).reset_index()"
   ]
  },
  {
   "cell_type": "code",
   "execution_count": 23,
   "id": "6d4652ea",
   "metadata": {
    "scrolled": true
   },
   "outputs": [],
   "source": [
    "gender_gap_o.sort_values(by=['Event','Age'],inplace=True)"
   ]
  },
  {
   "cell_type": "code",
   "execution_count": 24,
   "id": "921a8051",
   "metadata": {
    "scrolled": true
   },
   "outputs": [],
   "source": [
    "# drop 70-79 age group\n",
    "gender_gap_o.drop(index=[12,13],inplace=True)"
   ]
  },
  {
   "cell_type": "markdown",
   "id": "ad55b50e",
   "metadata": {},
   "source": [
    "### The gender gap in times was the most for the 50-59 (\\~3 mins) and 60-69 (~6 mins) age groups in the 5K\n",
    "\n",
    "### The gender gap in times was the most for the 30-39 (\\~6 mins) and 40-49 (~7 mins) age groups in the 10K"
   ]
  },
  {
   "cell_type": "code",
   "execution_count": 25,
   "id": "094726cb",
   "metadata": {
    "scrolled": true
   },
   "outputs": [
    {
     "data": {
      "text/plain": [
       "Event  Age  \n",
       "10K    -U-20    -3.0\n",
       "       20-29     3.8\n",
       "       30-39     6.3\n",
       "       40-49     6.7\n",
       "       50-59     4.7\n",
       "       60-69    -0.7\n",
       "       70-79    63.5\n",
       "5K     -U-20     2.4\n",
       "       20-29     2.2\n",
       "       30-39     1.2\n",
       "       40-49     0.2\n",
       "       50-59     3.4\n",
       "       60-69     6.4\n",
       "Name: Gun Time_m, dtype: float64"
      ]
     },
     "execution_count": 25,
     "metadata": {},
     "output_type": "execute_result"
    }
   ],
   "source": [
    "df[df['Gender'] == 'F'].groupby(['Event','Age'])['Gun Time_m'].mean().round(1) - df[df['Gender'] == 'M'].groupby(['Event','Age'])['Gun Time_m'].mean().round(1)\n"
   ]
  },
  {
   "cell_type": "code",
   "execution_count": 26,
   "id": "bacdf9c8",
   "metadata": {
    "scrolled": true
   },
   "outputs": [],
   "source": [
    "df['Chip Time_dt'] = pd.to_datetime(df['Chip Time']) - pd.Timedelta('1 days')"
   ]
  },
  {
   "cell_type": "code",
   "execution_count": 27,
   "id": "002aa6dd",
   "metadata": {},
   "outputs": [],
   "source": [
    "df['adv'] = (df['Gun Time_dt'] - df['Chip Time_dt']).dt.seconds"
   ]
  },
  {
   "cell_type": "code",
   "execution_count": 28,
   "id": "87050009",
   "metadata": {},
   "outputs": [],
   "source": [
    "df['adv_m'] = df['adv']/60"
   ]
  },
  {
   "cell_type": "markdown",
   "id": "7294380a",
   "metadata": {},
   "source": [
    "### The mean advantage of going earlier was 2mins for the 5K, suggesting that some runners' times were adversely affected by starting later!"
   ]
  },
  {
   "cell_type": "code",
   "execution_count": 29,
   "id": "c862969d",
   "metadata": {},
   "outputs": [
    {
     "data": {
      "text/plain": [
       "count    371.000000\n",
       "mean       1.144924\n",
       "std        2.924843\n",
       "min        0.000000\n",
       "25%        0.166667\n",
       "50%        0.366667\n",
       "75%        0.616667\n",
       "max       16.416667\n",
       "Name: adv_m, dtype: float64"
      ]
     },
     "execution_count": 29,
     "metadata": {},
     "output_type": "execute_result"
    }
   ],
   "source": [
    "df[df['Event'] == '10K']['adv_m'].describe()"
   ]
  },
  {
   "cell_type": "code",
   "execution_count": 30,
   "id": "10cb7577",
   "metadata": {},
   "outputs": [
    {
     "data": {
      "text/plain": [
       "count     395.000000\n",
       "mean       19.784599\n",
       "std       160.183391\n",
       "min         0.000000\n",
       "25%         0.233333\n",
       "50%         0.616667\n",
       "75%         3.225000\n",
       "max      1439.966667\n",
       "Name: adv_m, dtype: float64"
      ]
     },
     "execution_count": 30,
     "metadata": {},
     "output_type": "execute_result"
    }
   ],
   "source": [
    "df[df['Event'] == '5K']['adv_m'].describe()"
   ]
  },
  {
   "cell_type": "code",
   "execution_count": 31,
   "id": "6500f275",
   "metadata": {},
   "outputs": [
    {
     "data": {
      "text/plain": [
       "count    390.000000\n",
       "mean       1.672009\n",
       "std        2.123988\n",
       "min        0.000000\n",
       "25%        0.233333\n",
       "50%        0.600000\n",
       "75%        3.183333\n",
       "max        7.783333\n",
       "Name: adv_m, dtype: float64"
      ]
     },
     "execution_count": 31,
     "metadata": {},
     "output_type": "execute_result"
    }
   ],
   "source": [
    "df[(df['Event'] == '5K') & (df['adv_m'] < 9)].describe().loc[:, 'adv_m']"
   ]
  },
  {
   "cell_type": "code",
   "execution_count": 32,
   "id": "01e936b1",
   "metadata": {
    "scrolled": false
   },
   "outputs": [
    {
     "data": {
      "text/plain": [
       "array([[<Axes: title={'center': 'adv_m'}>]], dtype=object)"
      ]
     },
     "execution_count": 32,
     "metadata": {},
     "output_type": "execute_result"
    },
    {
     "data": {
      "image/png": "[encoded data removed]",
      "text/plain": [
       "<Figure size 640x480 with 1 Axes>"
      ]
     },
     "metadata": {},
     "output_type": "display_data"
    }
   ],
   "source": [
    "df[(df['Event'] == '5K') & (df['adv_m'] < 9)].hist(column='adv_m')"
   ]
  },
  {
   "cell_type": "code",
   "execution_count": null,
   "id": "b0a45302",
   "metadata": {},
   "outputs": [],
   "source": []
  }
 ],
 "metadata": {
  "kernelspec": {
   "display_name": "Python 3 (ipykernel)",
   "language": "python",
   "name": "python3"
  },
  "language_info": {
   "codemirror_mode": {
    "name": "ipython",
    "version": 3
   },
   "file_extension": ".py",
   "mimetype": "text/x-python",
   "name": "python",
   "nbconvert_exporter": "python",
   "pygments_lexer": "ipython3",
   "version": "3.9.16"
  }
 },
 "nbformat": 4,
 "nbformat_minor": 5
}
