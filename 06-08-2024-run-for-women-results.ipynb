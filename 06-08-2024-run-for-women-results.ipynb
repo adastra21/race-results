{
 "cells": [
  {
   "cell_type": "code",
   "execution_count": 1,
   "id": "28dc4809",
   "metadata": {},
   "outputs": [],
   "source": [
    "import pandas as pd\n",
    "import numpy as np\n",
    "import matplotlib.pylab as plt\n",
    "import seaborn as sns\n",
    "\n",
    "sns.set()\n",
    "%matplotlib inline"
   ]
  },
  {
   "cell_type": "markdown",
   "id": "9da78371",
   "metadata": {},
   "source": [
    "## 1. Read and clean data"
   ]
  },
  {
   "cell_type": "code",
   "execution_count": 2,
   "id": "222b9c59",
   "metadata": {},
   "outputs": [],
   "source": [
    "df23_i = pd.read_excel('data/2023-to-run-for-women-10k.xlsx')\n",
    "df23_ii = pd.read_excel('data/2023-to-run-for-women-5k.xlsx')"
   ]
  },
  {
   "cell_type": "code",
   "execution_count": 3,
   "id": "ec129621",
   "metadata": {},
   "outputs": [],
   "source": [
    "df23 = pd.concat([df23_i,df23_ii])"
   ]
  },
  {
   "cell_type": "code",
   "execution_count": 4,
   "id": "c1b2dea8",
   "metadata": {},
   "outputs": [
    {
     "data": {
      "text/plain": [
       "Event             1620\n",
       "Place             1620\n",
       "Gun Time          1620\n",
       "Race #            1620\n",
       "Name                 0\n",
       "Division          1620\n",
       "Place/Gender      1620\n",
       "Place/Division    1620\n",
       "Chip Time         1620\n",
       "dtype: int64"
      ]
     },
     "execution_count": 4,
     "metadata": {},
     "output_type": "execute_result"
    }
   ],
   "source": [
    "df23.isna().sum()"
   ]
  },
  {
   "cell_type": "code",
   "execution_count": 5,
   "id": "16adf891",
   "metadata": {},
   "outputs": [
    {
     "data": {
      "text/plain": [
       "(3240, 9)"
      ]
     },
     "execution_count": 5,
     "metadata": {},
     "output_type": "execute_result"
    }
   ],
   "source": [
    "df23.shape"
   ]
  },
  {
   "cell_type": "code",
   "execution_count": 6,
   "id": "4ade48fb",
   "metadata": {},
   "outputs": [],
   "source": [
    "df24_i = pd.read_excel('data/2024-to-run-for-women-10k.xlsx')\n",
    "df24_ii = pd.read_excel('data/2024-to-run-for-women-5k.xlsx')"
   ]
  },
  {
   "cell_type": "code",
   "execution_count": 7,
   "id": "3655c41c",
   "metadata": {},
   "outputs": [],
   "source": [
    "df24 = pd.concat([df24_i,df24_ii])"
   ]
  },
  {
   "cell_type": "code",
   "execution_count": 8,
   "id": "795250c5",
   "metadata": {},
   "outputs": [
    {
     "data": {
      "text/plain": [
       "Event             1922\n",
       "Place             1922\n",
       "Gun Time          1922\n",
       "Race #            1922\n",
       "Name                99\n",
       "Division          2021\n",
       "Place/Gender      2021\n",
       "Place/Division    2021\n",
       "Chip Time         1922\n",
       "dtype: int64"
      ]
     },
     "execution_count": 8,
     "metadata": {},
     "output_type": "execute_result"
    }
   ],
   "source": [
    "df24.isna().sum()"
   ]
  },
  {
   "cell_type": "code",
   "execution_count": 9,
   "id": "0792b813",
   "metadata": {},
   "outputs": [],
   "source": [
    "# filter out non-name finishers\n",
    "df24 = df24[~df24['Name'].isna()].copy()"
   ]
  },
  {
   "cell_type": "code",
   "execution_count": 10,
   "id": "eb1c6947",
   "metadata": {
    "scrolled": true
   },
   "outputs": [],
   "source": [
    "# filter out name w/o location\n",
    "df24 = df24[df24['Name'] != 'WINT, Carol'].copy()"
   ]
  },
  {
   "cell_type": "code",
   "execution_count": 11,
   "id": "16c510b7",
   "metadata": {},
   "outputs": [
    {
     "data": {
      "text/plain": [
       "(3844, 9)"
      ]
     },
     "execution_count": 11,
     "metadata": {},
     "output_type": "execute_result"
    }
   ],
   "source": [
    "df24.shape"
   ]
  },
  {
   "cell_type": "code",
   "execution_count": 12,
   "id": "9fc1a15f",
   "metadata": {},
   "outputs": [],
   "source": [
    "def add_loc(df):\n",
    "    df_loc = df[df['Event'].isna()].copy()\n",
    "    df_loc.index = df_loc.index-1\n",
    "    df_loc = df_loc['Name'].rename('Location')\n",
    "    \n",
    "    df = df[df['Event'].notna()].copy()\n",
    "    \n",
    "    df.reset_index(drop=True,inplace=True)\n",
    "    df_loc.reset_index(drop=True, inplace=True)\n",
    "    \n",
    "    df = df.join(df_loc)\n",
    "#     df = pd.concat([df,df_loc],axis=1)\n",
    "    \n",
    "    return df"
   ]
  },
  {
   "cell_type": "code",
   "execution_count": 13,
   "id": "02640acc",
   "metadata": {
    "scrolled": true
   },
   "outputs": [],
   "source": [
    "df23 = add_loc(df23)"
   ]
  },
  {
   "cell_type": "code",
   "execution_count": 14,
   "id": "f09fe294",
   "metadata": {},
   "outputs": [
    {
     "data": {
      "text/plain": [
       "(1620, 10)"
      ]
     },
     "execution_count": 14,
     "metadata": {},
     "output_type": "execute_result"
    }
   ],
   "source": [
    "df23.shape"
   ]
  },
  {
   "cell_type": "code",
   "execution_count": 15,
   "id": "95438a11",
   "metadata": {},
   "outputs": [],
   "source": [
    "df24 = add_loc(df24)"
   ]
  },
  {
   "cell_type": "code",
   "execution_count": 16,
   "id": "71595dec",
   "metadata": {},
   "outputs": [
    {
     "data": {
      "text/plain": [
       "(1922, 10)"
      ]
     },
     "execution_count": 16,
     "metadata": {},
     "output_type": "execute_result"
    }
   ],
   "source": [
    "df24.shape"
   ]
  },
  {
   "cell_type": "markdown",
   "id": "0f5ee41c",
   "metadata": {},
   "source": [
    "## 2. Prep data"
   ]
  },
  {
   "cell_type": "code",
   "execution_count": 17,
   "id": "c5939c62",
   "metadata": {},
   "outputs": [],
   "source": [
    "def get_demos(df):\n",
    "    # Bradford, ON\n",
    "    df['City'] = df['Location'].apply(lambda x: x.split(\", \")[0])\n",
    "    df['Province'] = df['Location'].apply(lambda x: x[-2:])\n",
    "    # division: M2029\n",
    "    df['Gender'] = df['Division'].apply(lambda x: x[0])\n",
    "    df['Age'] = df['Division'].apply(lambda x: x[1:3]+'-'+x[3:])\n",
    "    \n",
    "    df.drop(columns=['Location'],inplace=True)\n",
    "    \n",
    "    return df"
   ]
  },
  {
   "cell_type": "markdown",
   "id": "8e71481a",
   "metadata": {},
   "source": [
    "### 2024"
   ]
  },
  {
   "cell_type": "code",
   "execution_count": 18,
   "id": "0baccf83",
   "metadata": {},
   "outputs": [],
   "source": [
    "df24 = get_demos(df24)"
   ]
  },
  {
   "cell_type": "code",
   "execution_count": 19,
   "id": "56a34c42",
   "metadata": {},
   "outputs": [
    {
     "data": {
      "text/html": [
       "<div>\n",
       "<style scoped>\n",
       "    .dataframe tbody tr th:only-of-type {\n",
       "        vertical-align: middle;\n",
       "    }\n",
       "\n",
       "    .dataframe tbody tr th {\n",
       "        vertical-align: top;\n",
       "    }\n",
       "\n",
       "    .dataframe thead th {\n",
       "        text-align: right;\n",
       "    }\n",
       "</style>\n",
       "<table border=\"1\" class=\"dataframe\">\n",
       "  <thead>\n",
       "    <tr style=\"text-align: right;\">\n",
       "      <th></th>\n",
       "      <th>Event</th>\n",
       "      <th>Place</th>\n",
       "      <th>Gun Time</th>\n",
       "      <th>Race #</th>\n",
       "      <th>Name</th>\n",
       "      <th>Division</th>\n",
       "      <th>Place/Gender</th>\n",
       "      <th>Place/Division</th>\n",
       "      <th>Chip Time</th>\n",
       "      <th>City</th>\n",
       "      <th>Province</th>\n",
       "      <th>Gender</th>\n",
       "      <th>Age</th>\n",
       "    </tr>\n",
       "  </thead>\n",
       "  <tbody>\n",
       "    <tr>\n",
       "      <th>0</th>\n",
       "      <td>10K</td>\n",
       "      <td>1/517</td>\n",
       "      <td>00:37:26</td>\n",
       "      <td>20116.0</td>\n",
       "      <td>CURRY, Luis</td>\n",
       "      <td>M2029</td>\n",
       "      <td>1/146</td>\n",
       "      <td>1/57</td>\n",
       "      <td>00:37:25</td>\n",
       "      <td>Bradford</td>\n",
       "      <td>ON</td>\n",
       "      <td>M</td>\n",
       "      <td>20-29</td>\n",
       "    </tr>\n",
       "    <tr>\n",
       "      <th>1</th>\n",
       "      <td>10K</td>\n",
       "      <td>2/517</td>\n",
       "      <td>00:37:31</td>\n",
       "      <td>17294.0</td>\n",
       "      <td>RICHARD, Ryan</td>\n",
       "      <td>M3039</td>\n",
       "      <td>2/146</td>\n",
       "      <td>1/44</td>\n",
       "      <td>00:37:30</td>\n",
       "      <td>Toronto</td>\n",
       "      <td>ON</td>\n",
       "      <td>M</td>\n",
       "      <td>30-39</td>\n",
       "    </tr>\n",
       "    <tr>\n",
       "      <th>2</th>\n",
       "      <td>10K</td>\n",
       "      <td>3/517</td>\n",
       "      <td>00:37:39</td>\n",
       "      <td>16957.0</td>\n",
       "      <td>VANLEEUWEN, Olivia</td>\n",
       "      <td>F2029</td>\n",
       "      <td>1/360</td>\n",
       "      <td>1/122</td>\n",
       "      <td>00:37:37</td>\n",
       "      <td>Guelph</td>\n",
       "      <td>ON</td>\n",
       "      <td>F</td>\n",
       "      <td>20-29</td>\n",
       "    </tr>\n",
       "    <tr>\n",
       "      <th>3</th>\n",
       "      <td>10K</td>\n",
       "      <td>4/517</td>\n",
       "      <td>00:40:12</td>\n",
       "      <td>17220.0</td>\n",
       "      <td>ROSE, Jeremy</td>\n",
       "      <td>M2029</td>\n",
       "      <td>3/146</td>\n",
       "      <td>2/57</td>\n",
       "      <td>00:40:12</td>\n",
       "      <td>Toronto</td>\n",
       "      <td>ON</td>\n",
       "      <td>M</td>\n",
       "      <td>20-29</td>\n",
       "    </tr>\n",
       "    <tr>\n",
       "      <th>4</th>\n",
       "      <td>10K</td>\n",
       "      <td>5/517</td>\n",
       "      <td>00:40:18</td>\n",
       "      <td>22937.0</td>\n",
       "      <td>DOIRON, Claire</td>\n",
       "      <td>F2029</td>\n",
       "      <td>2/360</td>\n",
       "      <td>2/122</td>\n",
       "      <td>00:40:18</td>\n",
       "      <td>Oshawa</td>\n",
       "      <td>ON</td>\n",
       "      <td>F</td>\n",
       "      <td>20-29</td>\n",
       "    </tr>\n",
       "  </tbody>\n",
       "</table>\n",
       "</div>"
      ],
      "text/plain": [
       "  Event   Place  Gun Time   Race #                Name Division Place/Gender  \\\n",
       "0   10K   1/517  00:37:26  20116.0         CURRY, Luis    M2029        1/146   \n",
       "1   10K   2/517  00:37:31  17294.0       RICHARD, Ryan    M3039        2/146   \n",
       "2   10K   3/517  00:37:39  16957.0  VANLEEUWEN, Olivia    F2029        1/360   \n",
       "3   10K   4/517  00:40:12  17220.0        ROSE, Jeremy    M2029        3/146   \n",
       "4   10K   5/517  00:40:18  22937.0      DOIRON, Claire    F2029        2/360   \n",
       "\n",
       "  Place/Division Chip Time       City Province Gender    Age  \n",
       "0           1/57  00:37:25   Bradford       ON      M  20-29  \n",
       "1           1/44  00:37:30    Toronto       ON      M  30-39  \n",
       "2          1/122  00:37:37     Guelph       ON      F  20-29  \n",
       "3           2/57  00:40:12    Toronto       ON      M  20-29  \n",
       "4          2/122  00:40:18     Oshawa       ON      F  20-29  "
      ]
     },
     "execution_count": 19,
     "metadata": {},
     "output_type": "execute_result"
    }
   ],
   "source": [
    "df24.head()"
   ]
  },
  {
   "cell_type": "code",
   "execution_count": 20,
   "id": "f8f98b21",
   "metadata": {},
   "outputs": [
    {
     "data": {
      "text/plain": [
       "20-29     533\n",
       "30-39     533\n",
       "40-49     356\n",
       "50-59     243\n",
       "-U-20     123\n",
       "60-69      93\n",
       "70-79      21\n",
       "-O-PEN     17\n",
       "80-89       3\n",
       "Name: Age, dtype: int64"
      ]
     },
     "execution_count": 20,
     "metadata": {},
     "output_type": "execute_result"
    }
   ],
   "source": [
    "df24['Age'].value_counts()"
   ]
  },
  {
   "cell_type": "code",
   "execution_count": 21,
   "id": "851aca85",
   "metadata": {
    "scrolled": true
   },
   "outputs": [],
   "source": [
    "# filter out 17 runners w/ missing gender and age\n",
    "df24 = df24[df24['Age']!='-O-PEN'].copy()"
   ]
  },
  {
   "cell_type": "code",
   "execution_count": 22,
   "id": "3e358b49",
   "metadata": {},
   "outputs": [
    {
     "data": {
      "text/html": [
       "<div>\n",
       "<style scoped>\n",
       "    .dataframe tbody tr th:only-of-type {\n",
       "        vertical-align: middle;\n",
       "    }\n",
       "\n",
       "    .dataframe tbody tr th {\n",
       "        vertical-align: top;\n",
       "    }\n",
       "\n",
       "    .dataframe thead th {\n",
       "        text-align: right;\n",
       "    }\n",
       "</style>\n",
       "<table border=\"1\" class=\"dataframe\">\n",
       "  <thead>\n",
       "    <tr style=\"text-align: right;\">\n",
       "      <th></th>\n",
       "      <th>Event</th>\n",
       "      <th>Place</th>\n",
       "      <th>Gun Time</th>\n",
       "      <th>Race #</th>\n",
       "      <th>Name</th>\n",
       "      <th>Division</th>\n",
       "      <th>Place/Gender</th>\n",
       "      <th>Place/Division</th>\n",
       "      <th>Chip Time</th>\n",
       "      <th>City</th>\n",
       "      <th>Province</th>\n",
       "      <th>Gender</th>\n",
       "      <th>Age</th>\n",
       "    </tr>\n",
       "  </thead>\n",
       "  <tbody>\n",
       "    <tr>\n",
       "      <th>0</th>\n",
       "      <td>10K</td>\n",
       "      <td>1/517</td>\n",
       "      <td>00:37:26</td>\n",
       "      <td>20116.0</td>\n",
       "      <td>CURRY, Luis</td>\n",
       "      <td>M2029</td>\n",
       "      <td>1/146</td>\n",
       "      <td>1/57</td>\n",
       "      <td>00:37:25</td>\n",
       "      <td>Bradford</td>\n",
       "      <td>ON</td>\n",
       "      <td>M</td>\n",
       "      <td>20-29</td>\n",
       "    </tr>\n",
       "    <tr>\n",
       "      <th>1</th>\n",
       "      <td>10K</td>\n",
       "      <td>2/517</td>\n",
       "      <td>00:37:31</td>\n",
       "      <td>17294.0</td>\n",
       "      <td>RICHARD, Ryan</td>\n",
       "      <td>M3039</td>\n",
       "      <td>2/146</td>\n",
       "      <td>1/44</td>\n",
       "      <td>00:37:30</td>\n",
       "      <td>Toronto</td>\n",
       "      <td>ON</td>\n",
       "      <td>M</td>\n",
       "      <td>30-39</td>\n",
       "    </tr>\n",
       "    <tr>\n",
       "      <th>2</th>\n",
       "      <td>10K</td>\n",
       "      <td>3/517</td>\n",
       "      <td>00:37:39</td>\n",
       "      <td>16957.0</td>\n",
       "      <td>VANLEEUWEN, Olivia</td>\n",
       "      <td>F2029</td>\n",
       "      <td>1/360</td>\n",
       "      <td>1/122</td>\n",
       "      <td>00:37:37</td>\n",
       "      <td>Guelph</td>\n",
       "      <td>ON</td>\n",
       "      <td>F</td>\n",
       "      <td>20-29</td>\n",
       "    </tr>\n",
       "    <tr>\n",
       "      <th>3</th>\n",
       "      <td>10K</td>\n",
       "      <td>4/517</td>\n",
       "      <td>00:40:12</td>\n",
       "      <td>17220.0</td>\n",
       "      <td>ROSE, Jeremy</td>\n",
       "      <td>M2029</td>\n",
       "      <td>3/146</td>\n",
       "      <td>2/57</td>\n",
       "      <td>00:40:12</td>\n",
       "      <td>Toronto</td>\n",
       "      <td>ON</td>\n",
       "      <td>M</td>\n",
       "      <td>20-29</td>\n",
       "    </tr>\n",
       "    <tr>\n",
       "      <th>4</th>\n",
       "      <td>10K</td>\n",
       "      <td>5/517</td>\n",
       "      <td>00:40:18</td>\n",
       "      <td>22937.0</td>\n",
       "      <td>DOIRON, Claire</td>\n",
       "      <td>F2029</td>\n",
       "      <td>2/360</td>\n",
       "      <td>2/122</td>\n",
       "      <td>00:40:18</td>\n",
       "      <td>Oshawa</td>\n",
       "      <td>ON</td>\n",
       "      <td>F</td>\n",
       "      <td>20-29</td>\n",
       "    </tr>\n",
       "  </tbody>\n",
       "</table>\n",
       "</div>"
      ],
      "text/plain": [
       "  Event   Place  Gun Time   Race #                Name Division Place/Gender  \\\n",
       "0   10K   1/517  00:37:26  20116.0         CURRY, Luis    M2029        1/146   \n",
       "1   10K   2/517  00:37:31  17294.0       RICHARD, Ryan    M3039        2/146   \n",
       "2   10K   3/517  00:37:39  16957.0  VANLEEUWEN, Olivia    F2029        1/360   \n",
       "3   10K   4/517  00:40:12  17220.0        ROSE, Jeremy    M2029        3/146   \n",
       "4   10K   5/517  00:40:18  22937.0      DOIRON, Claire    F2029        2/360   \n",
       "\n",
       "  Place/Division Chip Time       City Province Gender    Age  \n",
       "0           1/57  00:37:25   Bradford       ON      M  20-29  \n",
       "1           1/44  00:37:30    Toronto       ON      M  30-39  \n",
       "2          1/122  00:37:37     Guelph       ON      F  20-29  \n",
       "3           2/57  00:40:12    Toronto       ON      M  20-29  \n",
       "4          2/122  00:40:18     Oshawa       ON      F  20-29  "
      ]
     },
     "execution_count": 22,
     "metadata": {},
     "output_type": "execute_result"
    }
   ],
   "source": [
    "df24.head()"
   ]
  },
  {
   "cell_type": "markdown",
   "id": "df2a1b2a",
   "metadata": {},
   "source": [
    "### 2023"
   ]
  },
  {
   "cell_type": "code",
   "execution_count": 23,
   "id": "926e0274",
   "metadata": {
    "scrolled": true
   },
   "outputs": [],
   "source": [
    "df23 = get_demos(df23)"
   ]
  },
  {
   "cell_type": "code",
   "execution_count": 24,
   "id": "aab86aed",
   "metadata": {},
   "outputs": [],
   "source": [
    "# filter out 14 runners w/ missing gender and age\n",
    "df23 = df23[(df23['Gender']!='U')&(df23['Age']!='99-99')].copy()"
   ]
  },
  {
   "cell_type": "code",
   "execution_count": 25,
   "id": "4bf42840",
   "metadata": {},
   "outputs": [
    {
     "data": {
      "text/html": [
       "<div>\n",
       "<style scoped>\n",
       "    .dataframe tbody tr th:only-of-type {\n",
       "        vertical-align: middle;\n",
       "    }\n",
       "\n",
       "    .dataframe tbody tr th {\n",
       "        vertical-align: top;\n",
       "    }\n",
       "\n",
       "    .dataframe thead th {\n",
       "        text-align: right;\n",
       "    }\n",
       "</style>\n",
       "<table border=\"1\" class=\"dataframe\">\n",
       "  <thead>\n",
       "    <tr style=\"text-align: right;\">\n",
       "      <th></th>\n",
       "      <th>Event</th>\n",
       "      <th>Place</th>\n",
       "      <th>Gun Time</th>\n",
       "      <th>Race #</th>\n",
       "      <th>Name</th>\n",
       "      <th>Division</th>\n",
       "      <th>Place/Gender</th>\n",
       "      <th>Place/Division</th>\n",
       "      <th>Chip Time</th>\n",
       "      <th>City</th>\n",
       "      <th>Province</th>\n",
       "      <th>Gender</th>\n",
       "      <th>Age</th>\n",
       "    </tr>\n",
       "  </thead>\n",
       "  <tbody>\n",
       "    <tr>\n",
       "      <th>0</th>\n",
       "      <td>10K</td>\n",
       "      <td>1/374</td>\n",
       "      <td>00:39:03</td>\n",
       "      <td>15946.0</td>\n",
       "      <td>LEVIN, Eli</td>\n",
       "      <td>M3039</td>\n",
       "      <td>1/108</td>\n",
       "      <td>1/49</td>\n",
       "      <td>00:39:00</td>\n",
       "      <td>Toronto</td>\n",
       "      <td>ON</td>\n",
       "      <td>M</td>\n",
       "      <td>30-39</td>\n",
       "    </tr>\n",
       "    <tr>\n",
       "      <th>1</th>\n",
       "      <td>10K</td>\n",
       "      <td>2/374</td>\n",
       "      <td>00:39:13</td>\n",
       "      <td>16066.0</td>\n",
       "      <td>SALEHI, Ellie</td>\n",
       "      <td>F3039</td>\n",
       "      <td>1/263</td>\n",
       "      <td>1/98</td>\n",
       "      <td>00:38:29</td>\n",
       "      <td>Markham</td>\n",
       "      <td>ON</td>\n",
       "      <td>F</td>\n",
       "      <td>30-39</td>\n",
       "    </tr>\n",
       "    <tr>\n",
       "      <th>2</th>\n",
       "      <td>10K</td>\n",
       "      <td>3/374</td>\n",
       "      <td>00:39:14</td>\n",
       "      <td>16065.0</td>\n",
       "      <td>SALEHI, Fateme</td>\n",
       "      <td>F4049</td>\n",
       "      <td>2/263</td>\n",
       "      <td>1/58</td>\n",
       "      <td>00:38:28</td>\n",
       "      <td>Toronto</td>\n",
       "      <td>ON</td>\n",
       "      <td>F</td>\n",
       "      <td>40-49</td>\n",
       "    </tr>\n",
       "    <tr>\n",
       "      <th>3</th>\n",
       "      <td>10K</td>\n",
       "      <td>4/374</td>\n",
       "      <td>00:40:18</td>\n",
       "      <td>16126.0</td>\n",
       "      <td>BANULS, Lorrain</td>\n",
       "      <td>M3039</td>\n",
       "      <td>2/108</td>\n",
       "      <td>2/49</td>\n",
       "      <td>00:40:15</td>\n",
       "      <td>Toronto</td>\n",
       "      <td>ON</td>\n",
       "      <td>M</td>\n",
       "      <td>30-39</td>\n",
       "    </tr>\n",
       "    <tr>\n",
       "      <th>4</th>\n",
       "      <td>10K</td>\n",
       "      <td>5/374</td>\n",
       "      <td>00:40:24</td>\n",
       "      <td>15342.0</td>\n",
       "      <td>LAU, Jason</td>\n",
       "      <td>M2029</td>\n",
       "      <td>3/108</td>\n",
       "      <td>1/25</td>\n",
       "      <td>00:40:15</td>\n",
       "      <td>North York</td>\n",
       "      <td>ON</td>\n",
       "      <td>M</td>\n",
       "      <td>20-29</td>\n",
       "    </tr>\n",
       "  </tbody>\n",
       "</table>\n",
       "</div>"
      ],
      "text/plain": [
       "  Event   Place  Gun Time   Race #             Name Division Place/Gender  \\\n",
       "0   10K   1/374  00:39:03  15946.0       LEVIN, Eli    M3039        1/108   \n",
       "1   10K   2/374  00:39:13  16066.0    SALEHI, Ellie    F3039        1/263   \n",
       "2   10K   3/374  00:39:14  16065.0   SALEHI, Fateme    F4049        2/263   \n",
       "3   10K   4/374  00:40:18  16126.0  BANULS, Lorrain    M3039        2/108   \n",
       "4   10K   5/374  00:40:24  15342.0       LAU, Jason    M2029        3/108   \n",
       "\n",
       "  Place/Division Chip Time         City Province Gender    Age  \n",
       "0           1/49  00:39:00      Toronto       ON      M  30-39  \n",
       "1           1/98  00:38:29      Markham       ON      F  30-39  \n",
       "2           1/58  00:38:28      Toronto       ON      F  40-49  \n",
       "3           2/49  00:40:15      Toronto       ON      M  30-39  \n",
       "4           1/25  00:40:15   North York       ON      M  20-29  "
      ]
     },
     "execution_count": 25,
     "metadata": {},
     "output_type": "execute_result"
    }
   ],
   "source": [
    "df23.head()"
   ]
  },
  {
   "cell_type": "code",
   "execution_count": 26,
   "id": "b03344e0",
   "metadata": {},
   "outputs": [],
   "source": [
    "df23['Year'] = '2023'"
   ]
  },
  {
   "cell_type": "code",
   "execution_count": 27,
   "id": "c9bf4345",
   "metadata": {},
   "outputs": [],
   "source": [
    "df24['Year'] = '2024'"
   ]
  },
  {
   "cell_type": "code",
   "execution_count": 28,
   "id": "c875cafc",
   "metadata": {},
   "outputs": [],
   "source": [
    "df = pd.concat([df23,df24])"
   ]
  },
  {
   "cell_type": "code",
   "execution_count": 29,
   "id": "ccfb596c",
   "metadata": {},
   "outputs": [],
   "source": [
    "df.reset_index(drop=True,inplace=True)"
   ]
  },
  {
   "cell_type": "code",
   "execution_count": 30,
   "id": "d3dd8057",
   "metadata": {},
   "outputs": [
    {
     "data": {
      "text/plain": [
       "(3510, 14)"
      ]
     },
     "execution_count": 30,
     "metadata": {},
     "output_type": "execute_result"
    }
   ],
   "source": [
    "df.shape"
   ]
  },
  {
   "cell_type": "markdown",
   "id": "b975fd25",
   "metadata": {},
   "source": [
    "## 3. Explore and find insights"
   ]
  },
  {
   "cell_type": "code",
   "execution_count": 31,
   "id": "c8b017f8",
   "metadata": {
    "scrolled": true
   },
   "outputs": [
    {
     "data": {
      "text/plain": [
       "30-39    1000\n",
       "20-29     915\n",
       "40-49     705\n",
       "50-59     450\n",
       "-U-20     218\n",
       "60-69     177\n",
       "70-79      41\n",
       "80-89       4\n",
       "Name: Age, dtype: int64"
      ]
     },
     "execution_count": 31,
     "metadata": {},
     "output_type": "execute_result"
    }
   ],
   "source": [
    "df['Age'].value_counts()"
   ]
  },
  {
   "cell_type": "code",
   "execution_count": 32,
   "id": "304f754d",
   "metadata": {},
   "outputs": [],
   "source": [
    "df['Age'] = df['Age'].astype('category')"
   ]
  },
  {
   "cell_type": "code",
   "execution_count": 33,
   "id": "e0caf1ef",
   "metadata": {
    "scrolled": true
   },
   "outputs": [],
   "source": [
    "df['Age'] = df['Age'].cat.rename_categories({'-U-20':'0-20'})"
   ]
  },
  {
   "cell_type": "markdown",
   "id": "11d9ce40",
   "metadata": {},
   "source": [
    "### 1) 300 more runners signed up in 2024, with more than 70% between 20 to 40 years old"
   ]
  },
  {
   "cell_type": "code",
   "execution_count": 34,
   "id": "d8b079df",
   "metadata": {},
   "outputs": [
    {
     "data": {
      "text/plain": [
       "2024    1905\n",
       "2023    1605\n",
       "Name: Year, dtype: int64"
      ]
     },
     "execution_count": 34,
     "metadata": {},
     "output_type": "execute_result"
    }
   ],
   "source": [
    "df['Year'].value_counts()"
   ]
  },
  {
   "cell_type": "code",
   "execution_count": 35,
   "id": "9506c509",
   "metadata": {
    "scrolled": true
   },
   "outputs": [
    {
     "data": {
      "text/plain": [
       "Age\n",
       "0-20      28\n",
       "20-29    151\n",
       "30-39     66\n",
       "40-49      7\n",
       "50-59     36\n",
       "60-69      9\n",
       "70-79      1\n",
       "80-89      2\n",
       "Name: Age, dtype: int64"
      ]
     },
     "execution_count": 35,
     "metadata": {},
     "output_type": "execute_result"
    }
   ],
   "source": [
    "df[df['Year']=='2024'].groupby('Age')['Age'].count() - df[df['Year']=='2023'].groupby('Age')['Age'].count()"
   ]
  },
  {
   "cell_type": "markdown",
   "id": "71834de9",
   "metadata": {},
   "source": [
    "### 2) 10K continues to attract younger runners than the 5K"
   ]
  },
  {
   "cell_type": "code",
   "execution_count": 36,
   "id": "a0f0afcd",
   "metadata": {
    "scrolled": true
   },
   "outputs": [],
   "source": [
    "age = df.groupby(['Event','Age','Year'])['Age'].count().rename('Count').reset_index().pivot(index='Age',columns=['Event','Year'],values='Count')\n"
   ]
  },
  {
   "cell_type": "code",
   "execution_count": 37,
   "id": "c347c122",
   "metadata": {},
   "outputs": [],
   "source": [
    "age.reset_index(inplace=True)"
   ]
  },
  {
   "cell_type": "code",
   "execution_count": 38,
   "id": "f7b21bbf",
   "metadata": {},
   "outputs": [
    {
     "data": {
      "text/html": [
       "<div>\n",
       "<style scoped>\n",
       "    .dataframe tbody tr th:only-of-type {\n",
       "        vertical-align: middle;\n",
       "    }\n",
       "\n",
       "    .dataframe tbody tr th {\n",
       "        vertical-align: top;\n",
       "    }\n",
       "\n",
       "    .dataframe thead tr th {\n",
       "        text-align: left;\n",
       "    }\n",
       "</style>\n",
       "<table border=\"1\" class=\"dataframe\">\n",
       "  <thead>\n",
       "    <tr>\n",
       "      <th>Event</th>\n",
       "      <th>Age</th>\n",
       "      <th colspan=\"2\" halign=\"left\">10K</th>\n",
       "      <th colspan=\"2\" halign=\"left\">5K</th>\n",
       "    </tr>\n",
       "    <tr>\n",
       "      <th>Year</th>\n",
       "      <th></th>\n",
       "      <th>2023</th>\n",
       "      <th>2024</th>\n",
       "      <th>2023</th>\n",
       "      <th>2024</th>\n",
       "    </tr>\n",
       "  </thead>\n",
       "  <tbody>\n",
       "    <tr>\n",
       "      <th>0</th>\n",
       "      <td>0-20</td>\n",
       "      <td>8</td>\n",
       "      <td>25</td>\n",
       "      <td>87</td>\n",
       "      <td>98</td>\n",
       "    </tr>\n",
       "    <tr>\n",
       "      <th>1</th>\n",
       "      <td>20-29</td>\n",
       "      <td>88</td>\n",
       "      <td>179</td>\n",
       "      <td>294</td>\n",
       "      <td>354</td>\n",
       "    </tr>\n",
       "    <tr>\n",
       "      <th>2</th>\n",
       "      <td>30-39</td>\n",
       "      <td>147</td>\n",
       "      <td>150</td>\n",
       "      <td>320</td>\n",
       "      <td>383</td>\n",
       "    </tr>\n",
       "    <tr>\n",
       "      <th>3</th>\n",
       "      <td>40-49</td>\n",
       "      <td>78</td>\n",
       "      <td>71</td>\n",
       "      <td>271</td>\n",
       "      <td>285</td>\n",
       "    </tr>\n",
       "    <tr>\n",
       "      <th>4</th>\n",
       "      <td>50-59</td>\n",
       "      <td>34</td>\n",
       "      <td>54</td>\n",
       "      <td>173</td>\n",
       "      <td>189</td>\n",
       "    </tr>\n",
       "    <tr>\n",
       "      <th>5</th>\n",
       "      <td>60-69</td>\n",
       "      <td>13</td>\n",
       "      <td>22</td>\n",
       "      <td>71</td>\n",
       "      <td>71</td>\n",
       "    </tr>\n",
       "    <tr>\n",
       "      <th>6</th>\n",
       "      <td>70-79</td>\n",
       "      <td>3</td>\n",
       "      <td>5</td>\n",
       "      <td>17</td>\n",
       "      <td>16</td>\n",
       "    </tr>\n",
       "    <tr>\n",
       "      <th>7</th>\n",
       "      <td>80-89</td>\n",
       "      <td>0</td>\n",
       "      <td>0</td>\n",
       "      <td>1</td>\n",
       "      <td>3</td>\n",
       "    </tr>\n",
       "  </tbody>\n",
       "</table>\n",
       "</div>"
      ],
      "text/plain": [
       "Event    Age  10K        5K     \n",
       "Year         2023 2024 2023 2024\n",
       "0       0-20    8   25   87   98\n",
       "1      20-29   88  179  294  354\n",
       "2      30-39  147  150  320  383\n",
       "3      40-49   78   71  271  285\n",
       "4      50-59   34   54  173  189\n",
       "5      60-69   13   22   71   71\n",
       "6      70-79    3    5   17   16\n",
       "7      80-89    0    0    1    3"
      ]
     },
     "execution_count": 38,
     "metadata": {},
     "output_type": "execute_result"
    }
   ],
   "source": [
    "age"
   ]
  },
  {
   "cell_type": "code",
   "execution_count": 39,
   "id": "a52f07a9",
   "metadata": {},
   "outputs": [],
   "source": [
    "age.loc[:, ('10K','2023_p')] = round(age.loc[:, ('10K','2023')]/age.loc[:, ('10K','2023')].sum()*100,1)\n",
    "age.loc[:, ('10K','2024_p')] = round(age.loc[:, ('10K','2024')]/age.loc[:, ('10K','2024')].sum()*100,1)"
   ]
  },
  {
   "cell_type": "code",
   "execution_count": 40,
   "id": "fd9dad7f",
   "metadata": {},
   "outputs": [],
   "source": [
    "age.loc[:, ('5K','2023_p')] = round(age.loc[:, ('5K','2023')]/age.loc[:, ('5K','2023')].sum()*100,1)\n",
    "age.loc[:, ('5K','2024_p')] = round(age.loc[:, ('5K','2024')]/age.loc[:, ('5K','2024')].sum()*100,1)"
   ]
  },
  {
   "cell_type": "code",
   "execution_count": 41,
   "id": "d985013a",
   "metadata": {},
   "outputs": [],
   "source": [
    "age = age.set_index('Age')"
   ]
  },
  {
   "cell_type": "markdown",
   "id": "c92f84c5",
   "metadata": {},
   "source": [
    "### 2.1) 10K skewed younger in 2024 compared to 2023"
   ]
  },
  {
   "cell_type": "code",
   "execution_count": 42,
   "id": "ba7a8a56",
   "metadata": {
    "scrolled": false
   },
   "outputs": [
    {
     "data": {
      "image/png": "[encoded data removed]",
      "text/plain": [
       "<Figure size 640x480 with 1 Axes>"
      ]
     },
     "metadata": {},
     "output_type": "display_data"
    }
   ],
   "source": [
    "age['10K'].iloc[:,2:].plot(kind='bar',legend=True)\n",
    "plt.title('Run for Women TO\\n10K Age distribution, 2024 v 2023')\n",
    "plt.legend(['2023','2024'],bbox_to_anchor=(1.25,1))\n",
    "plt.xlabel('')\n",
    "plt.show()"
   ]
  },
  {
   "cell_type": "markdown",
   "id": "1992d492",
   "metadata": {},
   "source": [
    "### 2.2) 5K skewed slightly younger as well, suggesting that more young runners signed up for both races"
   ]
  },
  {
   "cell_type": "code",
   "execution_count": 43,
   "id": "ba13743c",
   "metadata": {
    "scrolled": false
   },
   "outputs": [
    {
     "data": {
      "image/png": "[encoded data removed]",
      "text/plain": [
       "<Figure size 640x480 with 1 Axes>"
      ]
     },
     "metadata": {},
     "output_type": "display_data"
    }
   ],
   "source": [
    "age['5K'].iloc[:,2:].plot(kind='bar',legend=True)\n",
    "plt.title('Run for Women TO\\n5K Age distribution, 2024 v 2023')\n",
    "plt.legend(['2023','2024'],bbox_to_anchor=(1.25,1))\n",
    "plt.xlabel('')\n",
    "plt.show()"
   ]
  },
  {
   "cell_type": "markdown",
   "id": "db944ff4",
   "metadata": {},
   "source": [
    "### 3) There was a similar distribution of males and females for 10K and 5K races in both years"
   ]
  },
  {
   "cell_type": "code",
   "execution_count": 44,
   "id": "6fc44087",
   "metadata": {
    "scrolled": false
   },
   "outputs": [
    {
     "data": {
      "text/html": [
       "<div>\n",
       "<style scoped>\n",
       "    .dataframe tbody tr th:only-of-type {\n",
       "        vertical-align: middle;\n",
       "    }\n",
       "\n",
       "    .dataframe tbody tr th {\n",
       "        vertical-align: top;\n",
       "    }\n",
       "\n",
       "    .dataframe thead th {\n",
       "        text-align: right;\n",
       "    }\n",
       "</style>\n",
       "<table border=\"1\" class=\"dataframe\">\n",
       "  <thead>\n",
       "    <tr style=\"text-align: right;\">\n",
       "      <th>Event</th>\n",
       "      <th>10K</th>\n",
       "      <th>5K</th>\n",
       "    </tr>\n",
       "    <tr>\n",
       "      <th>Gender</th>\n",
       "      <th></th>\n",
       "      <th></th>\n",
       "    </tr>\n",
       "  </thead>\n",
       "  <tbody>\n",
       "    <tr>\n",
       "      <th>F</th>\n",
       "      <td>70.9</td>\n",
       "      <td>77.0</td>\n",
       "    </tr>\n",
       "    <tr>\n",
       "      <th>M</th>\n",
       "      <td>29.1</td>\n",
       "      <td>23.0</td>\n",
       "    </tr>\n",
       "  </tbody>\n",
       "</table>\n",
       "</div>"
      ],
      "text/plain": [
       "Event    10K    5K\n",
       "Gender            \n",
       "F       70.9  77.0\n",
       "M       29.1  23.0"
      ]
     },
     "execution_count": 44,
     "metadata": {},
     "output_type": "execute_result"
    }
   ],
   "source": [
    "df[df['Year']=='2023'].groupby(['Event','Gender'])['Gender'].count().rename('Count').reset_index()\\\n",
    ".pivot(index='Gender', columns='Event', values='Count').transform(lambda x: round(x/x.sum() * 100, 1))\n",
    "# .rename('perc').reset_index()"
   ]
  },
  {
   "cell_type": "code",
   "execution_count": 45,
   "id": "744368e9",
   "metadata": {},
   "outputs": [
    {
     "data": {
      "text/html": [
       "<div>\n",
       "<style scoped>\n",
       "    .dataframe tbody tr th:only-of-type {\n",
       "        vertical-align: middle;\n",
       "    }\n",
       "\n",
       "    .dataframe tbody tr th {\n",
       "        vertical-align: top;\n",
       "    }\n",
       "\n",
       "    .dataframe thead th {\n",
       "        text-align: right;\n",
       "    }\n",
       "</style>\n",
       "<table border=\"1\" class=\"dataframe\">\n",
       "  <thead>\n",
       "    <tr style=\"text-align: right;\">\n",
       "      <th>Event</th>\n",
       "      <th>10K</th>\n",
       "      <th>5K</th>\n",
       "    </tr>\n",
       "    <tr>\n",
       "      <th>Gender</th>\n",
       "      <th></th>\n",
       "      <th></th>\n",
       "    </tr>\n",
       "  </thead>\n",
       "  <tbody>\n",
       "    <tr>\n",
       "      <th>F</th>\n",
       "      <td>71.1</td>\n",
       "      <td>75.5</td>\n",
       "    </tr>\n",
       "    <tr>\n",
       "      <th>M</th>\n",
       "      <td>28.9</td>\n",
       "      <td>24.5</td>\n",
       "    </tr>\n",
       "  </tbody>\n",
       "</table>\n",
       "</div>"
      ],
      "text/plain": [
       "Event    10K    5K\n",
       "Gender            \n",
       "F       71.1  75.5\n",
       "M       28.9  24.5"
      ]
     },
     "execution_count": 45,
     "metadata": {},
     "output_type": "execute_result"
    }
   ],
   "source": [
    "df[df['Year']=='2024'].groupby(['Event','Gender'])['Gender'].count().rename('Count').reset_index()\\\n",
    ".pivot(index='Gender', columns='Event', values='Count').transform(lambda x: round(x/x.sum() * 100, 1))\n",
    "# .rename('perc').reset_index()"
   ]
  },
  {
   "cell_type": "markdown",
   "id": "41d65876",
   "metadata": {},
   "source": [
    "## Finish Times"
   ]
  },
  {
   "cell_type": "code",
   "execution_count": 46,
   "id": "3dfad7bd",
   "metadata": {},
   "outputs": [
    {
     "data": {
      "text/html": [
       "<div>\n",
       "<style scoped>\n",
       "    .dataframe tbody tr th:only-of-type {\n",
       "        vertical-align: middle;\n",
       "    }\n",
       "\n",
       "    .dataframe tbody tr th {\n",
       "        vertical-align: top;\n",
       "    }\n",
       "\n",
       "    .dataframe thead th {\n",
       "        text-align: right;\n",
       "    }\n",
       "</style>\n",
       "<table border=\"1\" class=\"dataframe\">\n",
       "  <thead>\n",
       "    <tr style=\"text-align: right;\">\n",
       "      <th></th>\n",
       "      <th>Event</th>\n",
       "      <th>Place</th>\n",
       "      <th>Gun Time</th>\n",
       "      <th>Race #</th>\n",
       "      <th>Name</th>\n",
       "      <th>Division</th>\n",
       "      <th>Place/Gender</th>\n",
       "      <th>Place/Division</th>\n",
       "      <th>Chip Time</th>\n",
       "      <th>City</th>\n",
       "      <th>Province</th>\n",
       "      <th>Gender</th>\n",
       "      <th>Age</th>\n",
       "      <th>Year</th>\n",
       "    </tr>\n",
       "  </thead>\n",
       "  <tbody>\n",
       "    <tr>\n",
       "      <th>0</th>\n",
       "      <td>10K</td>\n",
       "      <td>1/374</td>\n",
       "      <td>00:39:03</td>\n",
       "      <td>15946.0</td>\n",
       "      <td>LEVIN, Eli</td>\n",
       "      <td>M3039</td>\n",
       "      <td>1/108</td>\n",
       "      <td>1/49</td>\n",
       "      <td>00:39:00</td>\n",
       "      <td>Toronto</td>\n",
       "      <td>ON</td>\n",
       "      <td>M</td>\n",
       "      <td>30-39</td>\n",
       "      <td>2023</td>\n",
       "    </tr>\n",
       "    <tr>\n",
       "      <th>1</th>\n",
       "      <td>10K</td>\n",
       "      <td>2/374</td>\n",
       "      <td>00:39:13</td>\n",
       "      <td>16066.0</td>\n",
       "      <td>SALEHI, Ellie</td>\n",
       "      <td>F3039</td>\n",
       "      <td>1/263</td>\n",
       "      <td>1/98</td>\n",
       "      <td>00:38:29</td>\n",
       "      <td>Markham</td>\n",
       "      <td>ON</td>\n",
       "      <td>F</td>\n",
       "      <td>30-39</td>\n",
       "      <td>2023</td>\n",
       "    </tr>\n",
       "    <tr>\n",
       "      <th>2</th>\n",
       "      <td>10K</td>\n",
       "      <td>3/374</td>\n",
       "      <td>00:39:14</td>\n",
       "      <td>16065.0</td>\n",
       "      <td>SALEHI, Fateme</td>\n",
       "      <td>F4049</td>\n",
       "      <td>2/263</td>\n",
       "      <td>1/58</td>\n",
       "      <td>00:38:28</td>\n",
       "      <td>Toronto</td>\n",
       "      <td>ON</td>\n",
       "      <td>F</td>\n",
       "      <td>40-49</td>\n",
       "      <td>2023</td>\n",
       "    </tr>\n",
       "    <tr>\n",
       "      <th>3</th>\n",
       "      <td>10K</td>\n",
       "      <td>4/374</td>\n",
       "      <td>00:40:18</td>\n",
       "      <td>16126.0</td>\n",
       "      <td>BANULS, Lorrain</td>\n",
       "      <td>M3039</td>\n",
       "      <td>2/108</td>\n",
       "      <td>2/49</td>\n",
       "      <td>00:40:15</td>\n",
       "      <td>Toronto</td>\n",
       "      <td>ON</td>\n",
       "      <td>M</td>\n",
       "      <td>30-39</td>\n",
       "      <td>2023</td>\n",
       "    </tr>\n",
       "    <tr>\n",
       "      <th>4</th>\n",
       "      <td>10K</td>\n",
       "      <td>5/374</td>\n",
       "      <td>00:40:24</td>\n",
       "      <td>15342.0</td>\n",
       "      <td>LAU, Jason</td>\n",
       "      <td>M2029</td>\n",
       "      <td>3/108</td>\n",
       "      <td>1/25</td>\n",
       "      <td>00:40:15</td>\n",
       "      <td>North York</td>\n",
       "      <td>ON</td>\n",
       "      <td>M</td>\n",
       "      <td>20-29</td>\n",
       "      <td>2023</td>\n",
       "    </tr>\n",
       "  </tbody>\n",
       "</table>\n",
       "</div>"
      ],
      "text/plain": [
       "  Event   Place  Gun Time   Race #             Name Division Place/Gender  \\\n",
       "0   10K   1/374  00:39:03  15946.0       LEVIN, Eli    M3039        1/108   \n",
       "1   10K   2/374  00:39:13  16066.0    SALEHI, Ellie    F3039        1/263   \n",
       "2   10K   3/374  00:39:14  16065.0   SALEHI, Fateme    F4049        2/263   \n",
       "3   10K   4/374  00:40:18  16126.0  BANULS, Lorrain    M3039        2/108   \n",
       "4   10K   5/374  00:40:24  15342.0       LAU, Jason    M2029        3/108   \n",
       "\n",
       "  Place/Division Chip Time         City Province Gender    Age  Year  \n",
       "0           1/49  00:39:00      Toronto       ON      M  30-39  2023  \n",
       "1           1/98  00:38:29      Markham       ON      F  30-39  2023  \n",
       "2           1/58  00:38:28      Toronto       ON      F  40-49  2023  \n",
       "3           2/49  00:40:15      Toronto       ON      M  30-39  2023  \n",
       "4           1/25  00:40:15   North York       ON      M  20-29  2023  "
      ]
     },
     "execution_count": 46,
     "metadata": {},
     "output_type": "execute_result"
    }
   ],
   "source": [
    "df.head()"
   ]
  },
  {
   "cell_type": "code",
   "execution_count": 47,
   "id": "0299ba8c",
   "metadata": {
    "scrolled": true
   },
   "outputs": [],
   "source": [
    "df['Gun Time_dt'] = pd.to_timedelta(df['Gun Time'].astype(str))"
   ]
  },
  {
   "cell_type": "code",
   "execution_count": 48,
   "id": "fb49741d",
   "metadata": {},
   "outputs": [],
   "source": [
    "# df['Gun Time_m'] = round((df['Gun Time_dt'].dt.hour*3600 + df['Gun Time_dt'].dt.minute*60 + df['Gun Time_dt'].dt.second)/60, 1)\n"
   ]
  },
  {
   "cell_type": "code",
   "execution_count": 49,
   "id": "fbbbd95a",
   "metadata": {},
   "outputs": [],
   "source": [
    "df['Gun Time_m'] = round(df['Gun Time_dt'].dt.seconds/60,1)"
   ]
  },
  {
   "cell_type": "code",
   "execution_count": 50,
   "id": "b61488b5",
   "metadata": {
    "scrolled": true
   },
   "outputs": [],
   "source": [
    "pd.set_option('display.max_rows', 100)"
   ]
  },
  {
   "cell_type": "code",
   "execution_count": 51,
   "id": "ed414e60",
   "metadata": {
    "scrolled": true
   },
   "outputs": [
    {
     "data": {
      "text/html": [
       "<div>\n",
       "<style scoped>\n",
       "    .dataframe tbody tr th:only-of-type {\n",
       "        vertical-align: middle;\n",
       "    }\n",
       "\n",
       "    .dataframe tbody tr th {\n",
       "        vertical-align: top;\n",
       "    }\n",
       "\n",
       "    .dataframe thead th {\n",
       "        text-align: right;\n",
       "    }\n",
       "</style>\n",
       "<table border=\"1\" class=\"dataframe\">\n",
       "  <thead>\n",
       "    <tr style=\"text-align: right;\">\n",
       "      <th></th>\n",
       "      <th>Event</th>\n",
       "      <th>Place</th>\n",
       "      <th>Gun Time</th>\n",
       "      <th>Race #</th>\n",
       "      <th>Name</th>\n",
       "      <th>Division</th>\n",
       "      <th>Place/Gender</th>\n",
       "      <th>Place/Division</th>\n",
       "      <th>Chip Time</th>\n",
       "      <th>City</th>\n",
       "      <th>Province</th>\n",
       "      <th>Gender</th>\n",
       "      <th>Age</th>\n",
       "      <th>Year</th>\n",
       "      <th>Gun Time_dt</th>\n",
       "      <th>Gun Time_m</th>\n",
       "    </tr>\n",
       "  </thead>\n",
       "  <tbody>\n",
       "    <tr>\n",
       "      <th>0</th>\n",
       "      <td>10K</td>\n",
       "      <td>1/374</td>\n",
       "      <td>00:39:03</td>\n",
       "      <td>15946.0</td>\n",
       "      <td>LEVIN, Eli</td>\n",
       "      <td>M3039</td>\n",
       "      <td>1/108</td>\n",
       "      <td>1/49</td>\n",
       "      <td>00:39:00</td>\n",
       "      <td>Toronto</td>\n",
       "      <td>ON</td>\n",
       "      <td>M</td>\n",
       "      <td>30-39</td>\n",
       "      <td>2023</td>\n",
       "      <td>0 days 00:39:03</td>\n",
       "      <td>39.0</td>\n",
       "    </tr>\n",
       "    <tr>\n",
       "      <th>1</th>\n",
       "      <td>10K</td>\n",
       "      <td>2/374</td>\n",
       "      <td>00:39:13</td>\n",
       "      <td>16066.0</td>\n",
       "      <td>SALEHI, Ellie</td>\n",
       "      <td>F3039</td>\n",
       "      <td>1/263</td>\n",
       "      <td>1/98</td>\n",
       "      <td>00:38:29</td>\n",
       "      <td>Markham</td>\n",
       "      <td>ON</td>\n",
       "      <td>F</td>\n",
       "      <td>30-39</td>\n",
       "      <td>2023</td>\n",
       "      <td>0 days 00:39:13</td>\n",
       "      <td>39.2</td>\n",
       "    </tr>\n",
       "    <tr>\n",
       "      <th>2</th>\n",
       "      <td>10K</td>\n",
       "      <td>3/374</td>\n",
       "      <td>00:39:14</td>\n",
       "      <td>16065.0</td>\n",
       "      <td>SALEHI, Fateme</td>\n",
       "      <td>F4049</td>\n",
       "      <td>2/263</td>\n",
       "      <td>1/58</td>\n",
       "      <td>00:38:28</td>\n",
       "      <td>Toronto</td>\n",
       "      <td>ON</td>\n",
       "      <td>F</td>\n",
       "      <td>40-49</td>\n",
       "      <td>2023</td>\n",
       "      <td>0 days 00:39:14</td>\n",
       "      <td>39.2</td>\n",
       "    </tr>\n",
       "    <tr>\n",
       "      <th>3</th>\n",
       "      <td>10K</td>\n",
       "      <td>4/374</td>\n",
       "      <td>00:40:18</td>\n",
       "      <td>16126.0</td>\n",
       "      <td>BANULS, Lorrain</td>\n",
       "      <td>M3039</td>\n",
       "      <td>2/108</td>\n",
       "      <td>2/49</td>\n",
       "      <td>00:40:15</td>\n",
       "      <td>Toronto</td>\n",
       "      <td>ON</td>\n",
       "      <td>M</td>\n",
       "      <td>30-39</td>\n",
       "      <td>2023</td>\n",
       "      <td>0 days 00:40:18</td>\n",
       "      <td>40.3</td>\n",
       "    </tr>\n",
       "    <tr>\n",
       "      <th>4</th>\n",
       "      <td>10K</td>\n",
       "      <td>5/374</td>\n",
       "      <td>00:40:24</td>\n",
       "      <td>15342.0</td>\n",
       "      <td>LAU, Jason</td>\n",
       "      <td>M2029</td>\n",
       "      <td>3/108</td>\n",
       "      <td>1/25</td>\n",
       "      <td>00:40:15</td>\n",
       "      <td>North York</td>\n",
       "      <td>ON</td>\n",
       "      <td>M</td>\n",
       "      <td>20-29</td>\n",
       "      <td>2023</td>\n",
       "      <td>0 days 00:40:24</td>\n",
       "      <td>40.4</td>\n",
       "    </tr>\n",
       "  </tbody>\n",
       "</table>\n",
       "</div>"
      ],
      "text/plain": [
       "  Event   Place  Gun Time   Race #             Name Division Place/Gender  \\\n",
       "0   10K   1/374  00:39:03  15946.0       LEVIN, Eli    M3039        1/108   \n",
       "1   10K   2/374  00:39:13  16066.0    SALEHI, Ellie    F3039        1/263   \n",
       "2   10K   3/374  00:39:14  16065.0   SALEHI, Fateme    F4049        2/263   \n",
       "3   10K   4/374  00:40:18  16126.0  BANULS, Lorrain    M3039        2/108   \n",
       "4   10K   5/374  00:40:24  15342.0       LAU, Jason    M2029        3/108   \n",
       "\n",
       "  Place/Division Chip Time         City Province Gender    Age  Year  \\\n",
       "0           1/49  00:39:00      Toronto       ON      M  30-39  2023   \n",
       "1           1/98  00:38:29      Markham       ON      F  30-39  2023   \n",
       "2           1/58  00:38:28      Toronto       ON      F  40-49  2023   \n",
       "3           2/49  00:40:15      Toronto       ON      M  30-39  2023   \n",
       "4           1/25  00:40:15   North York       ON      M  20-29  2023   \n",
       "\n",
       "      Gun Time_dt  Gun Time_m  \n",
       "0 0 days 00:39:03        39.0  \n",
       "1 0 days 00:39:13        39.2  \n",
       "2 0 days 00:39:14        39.2  \n",
       "3 0 days 00:40:18        40.3  \n",
       "4 0 days 00:40:24        40.4  "
      ]
     },
     "execution_count": 51,
     "metadata": {},
     "output_type": "execute_result"
    }
   ],
   "source": [
    "df.head()"
   ]
  },
  {
   "cell_type": "markdown",
   "id": "06307fb3",
   "metadata": {},
   "source": [
    "### 5) The avg. for the 5K was ~49 mins whereas for the 10K was ~64 mins"
   ]
  },
  {
   "cell_type": "markdown",
   "id": "995fd82d",
   "metadata": {},
   "source": [
    "### 5.1) There was a standard deviation of 15 mins for the 5K compared to 12 mins for the 10K suggesting that a wider range of runners ran the 5K than the 10K"
   ]
  },
  {
   "cell_type": "code",
   "execution_count": 52,
   "id": "19edc841",
   "metadata": {},
   "outputs": [],
   "source": [
    "df24_ = df[df['Year']=='2024'].copy()"
   ]
  },
  {
   "cell_type": "code",
   "execution_count": 53,
   "id": "1081eb56",
   "metadata": {
    "scrolled": true
   },
   "outputs": [
    {
     "data": {
      "text/plain": [
       "count    1399.000000\n",
       "mean       48.453753\n",
       "std        14.828443\n",
       "min        18.800000\n",
       "25%        35.750000\n",
       "50%        46.400000\n",
       "75%        62.050000\n",
       "max        82.700000\n",
       "Name: Gun Time_m, dtype: float64"
      ]
     },
     "execution_count": 53,
     "metadata": {},
     "output_type": "execute_result"
    }
   ],
   "source": [
    "df24_[(df24_['Event']=='5K')&(df24_['Year']=='2024')]['Gun Time_m'].describe()"
   ]
  },
  {
   "cell_type": "code",
   "execution_count": 54,
   "id": "81ba9cd0",
   "metadata": {},
   "outputs": [
    {
     "data": {
      "text/plain": [
       "count    506.000000\n",
       "mean      63.550791\n",
       "std       11.719212\n",
       "min       37.400000\n",
       "25%       55.100000\n",
       "50%       62.550000\n",
       "75%       70.300000\n",
       "max      110.100000\n",
       "Name: Gun Time_m, dtype: float64"
      ]
     },
     "execution_count": 54,
     "metadata": {},
     "output_type": "execute_result"
    }
   ],
   "source": [
    "df24_[(df24_['Event']=='10K')&(df24_['Year']=='2024')]['Gun Time_m'].describe()"
   ]
  },
  {
   "cell_type": "markdown",
   "id": "0a4710a7",
   "metadata": {},
   "source": [
    "### 5.2) The 5K was finished in 20 to 80 mins, whereas the 10K took between 40 and 120 mins"
   ]
  },
  {
   "cell_type": "code",
   "execution_count": 55,
   "id": "5ab63819",
   "metadata": {},
   "outputs": [],
   "source": [
    "sns.set_palette('Dark2')"
   ]
  },
  {
   "cell_type": "code",
   "execution_count": 56,
   "id": "2f94edf8",
   "metadata": {},
   "outputs": [
    {
     "data": {
      "image/png": "[encoded data removed]",
      "text/plain": [
       "<Figure size 1200x600 with 2 Axes>"
      ]
     },
     "metadata": {},
     "output_type": "display_data"
    }
   ],
   "source": [
    "fig, ax = plt.subplots(1,2, figsize=(12,6), sharex=True, sharey=True)\n",
    "\n",
    "sns.histplot(x='Gun Time_m', hue='Event', data=df24_[df24_['Event']=='5K'], ax=ax[0], stat='percent',bins=20,binrange=(0,120))\n",
    "sns.histplot(x='Gun Time_m', hue='Event', data=df24_[df24_['Event']=='10K'], ax=ax[1], stat='percent',bins=20,binrange=(0,120))\n",
    "\n",
    "plt.show()"
   ]
  },
  {
   "cell_type": "markdown",
   "id": "7d78b054",
   "metadata": {},
   "source": [
    "### 5.3) There was no significant difference in finishing times in 5K and 10K in 2023 and 2024"
   ]
  },
  {
   "cell_type": "code",
   "execution_count": 57,
   "id": "c7904fe8",
   "metadata": {},
   "outputs": [],
   "source": [
    "sns.set_palette('tab20')"
   ]
  },
  {
   "cell_type": "code",
   "execution_count": 58,
   "id": "efb9d4be",
   "metadata": {
    "scrolled": false
   },
   "outputs": [
    {
     "data": {
      "text/plain": [
       "<seaborn.axisgrid.FacetGrid at 0x14ef145b0>"
      ]
     },
     "execution_count": 58,
     "metadata": {},
     "output_type": "execute_result"
    },
    {
     "data": {
      "image/png": "[encoded data removed]",
      "text/plain": [
       "<Figure size 1050x700 with 4 Axes>"
      ]
     },
     "metadata": {},
     "output_type": "display_data"
    }
   ],
   "source": [
    "g = sns.FacetGrid(data=df,row='Year',col='Event', sharey=True, height=3.5, aspect=1.5)\n",
    "g.map_dataframe(sns.histplot, x='Gun Time_m', stat='percent', hue='Year',bins=20,binrange=(0,120))"
   ]
  },
  {
   "cell_type": "markdown",
   "id": "4bff8a6a",
   "metadata": {},
   "source": [
    "### 6) Woodbridge had the fastest runners in the 5K while Sauga was the winner in the 10K"
   ]
  },
  {
   "cell_type": "code",
   "execution_count": 59,
   "id": "91a20cdf",
   "metadata": {
    "scrolled": true
   },
   "outputs": [],
   "source": [
    "df['Chip Time_dt'] = pd.to_timedelta(df['Chip Time'].astype(str))"
   ]
  },
  {
   "cell_type": "code",
   "execution_count": 60,
   "id": "0116a309",
   "metadata": {},
   "outputs": [],
   "source": [
    "df['Chip Time_m'] = round(df['Chip Time_dt'].dt.seconds/60,1)"
   ]
  },
  {
   "cell_type": "code",
   "execution_count": 61,
   "id": "0d498474",
   "metadata": {},
   "outputs": [
    {
     "data": {
      "text/plain": [
       "<Axes: >"
      ]
     },
     "execution_count": 61,
     "metadata": {},
     "output_type": "execute_result"
    },
    {
     "data": {
      "image/png": "[encoded data removed]",
      "text/plain": [
       "<Figure size 640x480 with 1 Axes>"
      ]
     },
     "metadata": {},
     "output_type": "display_data"
    }
   ],
   "source": [
    "df['Chip Time_m'].hist(bins=20)"
   ]
  },
  {
   "cell_type": "code",
   "execution_count": 62,
   "id": "0f2e99cb",
   "metadata": {},
   "outputs": [],
   "source": [
    "df24_ = df[df['Year']=='2024'].copy()"
   ]
  },
  {
   "cell_type": "code",
   "execution_count": 63,
   "id": "7744234a",
   "metadata": {},
   "outputs": [],
   "source": [
    "cities = df24_.groupby(['City','Event'])['Chip Time_m'].agg({'mean','count'}).reset_index()"
   ]
  },
  {
   "cell_type": "code",
   "execution_count": 64,
   "id": "7d62a63a",
   "metadata": {},
   "outputs": [],
   "source": [
    "# cities['count'].hist(range=(0,100),bins=20)"
   ]
  },
  {
   "cell_type": "code",
   "execution_count": 65,
   "id": "14c570b2",
   "metadata": {},
   "outputs": [],
   "source": [
    "top_cities = cities[cities['count']>=10].copy()"
   ]
  },
  {
   "cell_type": "code",
   "execution_count": 66,
   "id": "7feb78f0",
   "metadata": {},
   "outputs": [],
   "source": [
    "top_cities = top_cities.pivot(index='City',columns='Event',values='mean').round(1)"
   ]
  },
  {
   "cell_type": "code",
   "execution_count": 67,
   "id": "3b3b499f",
   "metadata": {},
   "outputs": [
    {
     "data": {
      "text/plain": [
       "City\n",
       " Woodbridge       38.8\n",
       " Oakville         39.3\n",
       " Toronto          45.4\n",
       " Richmond Hill    46.1\n",
       " Markham          47.2\n",
       "Name: 5K, dtype: float64"
      ]
     },
     "execution_count": 67,
     "metadata": {},
     "output_type": "execute_result"
    }
   ],
   "source": [
    "top_cities['5K'].sort_values()[:5]"
   ]
  },
  {
   "cell_type": "code",
   "execution_count": 68,
   "id": "3d885409",
   "metadata": {},
   "outputs": [
    {
     "data": {
      "text/plain": [
       "City\n",
       " Mississauga    58.8\n",
       " Oakville       59.4\n",
       " Etobicoke      61.5\n",
       " Toronto        61.9\n",
       " North York     62.0\n",
       "Name: 10K, dtype: float64"
      ]
     },
     "execution_count": 68,
     "metadata": {},
     "output_type": "execute_result"
    }
   ],
   "source": [
    "top_cities['10K'].sort_values()[:5]"
   ]
  },
  {
   "cell_type": "markdown",
   "id": "7ba0d4be",
   "metadata": {},
   "source": [
    "### 7) Male runners are ~2m/k faster than female runners across age groups"
   ]
  },
  {
   "cell_type": "markdown",
   "id": "3c5551aa",
   "metadata": {},
   "source": [
    "### 7.1) Male runners are 1m/k faster than female runners between 20-39, and 1.7m/k faster in the 40-49 age group"
   ]
  },
  {
   "cell_type": "code",
   "execution_count": 69,
   "id": "e5df70a0",
   "metadata": {},
   "outputs": [],
   "source": [
    "df['dist'] = (df['Event'].apply(lambda x: x[:-1])).astype(int)"
   ]
  },
  {
   "cell_type": "code",
   "execution_count": 70,
   "id": "22095b88",
   "metadata": {},
   "outputs": [],
   "source": [
    "df['pace'] = df['Chip Time_m']/df['dist']"
   ]
  },
  {
   "cell_type": "code",
   "execution_count": 71,
   "id": "ec72a298",
   "metadata": {
    "scrolled": true
   },
   "outputs": [],
   "source": [
    "pace_div = df.groupby(['Age','Gender'])['pace'].median().reset_index()"
   ]
  },
  {
   "cell_type": "code",
   "execution_count": 72,
   "id": "c438c437",
   "metadata": {},
   "outputs": [],
   "source": [
    "pace_div = pace_div.pivot(index='Age',columns='Gender',values='pace')"
   ]
  },
  {
   "cell_type": "code",
   "execution_count": 73,
   "id": "7c24c842",
   "metadata": {},
   "outputs": [],
   "source": [
    "pace_div['diff'] = pace_div['M']-pace_div['F']"
   ]
  },
  {
   "cell_type": "code",
   "execution_count": 74,
   "id": "a118e55c",
   "metadata": {},
   "outputs": [],
   "source": [
    "# sns.heatmap(pace_div.iloc[:,:2],annot=True,square=True,cbar=False,vmin=6,vmax=10)"
   ]
  },
  {
   "cell_type": "code",
   "execution_count": 75,
   "id": "4c04133a",
   "metadata": {},
   "outputs": [
    {
     "data": {
      "text/html": [
       "<div>\n",
       "<style scoped>\n",
       "    .dataframe tbody tr th:only-of-type {\n",
       "        vertical-align: middle;\n",
       "    }\n",
       "\n",
       "    .dataframe tbody tr th {\n",
       "        vertical-align: top;\n",
       "    }\n",
       "\n",
       "    .dataframe thead th {\n",
       "        text-align: right;\n",
       "    }\n",
       "</style>\n",
       "<table border=\"1\" class=\"dataframe\">\n",
       "  <thead>\n",
       "    <tr style=\"text-align: right;\">\n",
       "      <th>Gender</th>\n",
       "      <th>F</th>\n",
       "      <th>M</th>\n",
       "      <th>diff</th>\n",
       "    </tr>\n",
       "    <tr>\n",
       "      <th>Age</th>\n",
       "      <th></th>\n",
       "      <th></th>\n",
       "      <th></th>\n",
       "    </tr>\n",
       "  </thead>\n",
       "  <tbody>\n",
       "    <tr>\n",
       "      <th>0-20</th>\n",
       "      <td>7.8</td>\n",
       "      <td>6.6</td>\n",
       "      <td>-1.1</td>\n",
       "    </tr>\n",
       "    <tr>\n",
       "      <th>20-29</th>\n",
       "      <td>7.2</td>\n",
       "      <td>6.2</td>\n",
       "      <td>-1.0</td>\n",
       "    </tr>\n",
       "    <tr>\n",
       "      <th>30-39</th>\n",
       "      <td>7.7</td>\n",
       "      <td>6.7</td>\n",
       "      <td>-1.0</td>\n",
       "    </tr>\n",
       "    <tr>\n",
       "      <th>40-49</th>\n",
       "      <td>8.6</td>\n",
       "      <td>7.0</td>\n",
       "      <td>-1.7</td>\n",
       "    </tr>\n",
       "    <tr>\n",
       "      <th>50-59</th>\n",
       "      <td>8.9</td>\n",
       "      <td>9.6</td>\n",
       "      <td>0.7</td>\n",
       "    </tr>\n",
       "    <tr>\n",
       "      <th>60-69</th>\n",
       "      <td>10.1</td>\n",
       "      <td>7.3</td>\n",
       "      <td>-2.7</td>\n",
       "    </tr>\n",
       "    <tr>\n",
       "      <th>70-79</th>\n",
       "      <td>12.3</td>\n",
       "      <td>6.6</td>\n",
       "      <td>-5.7</td>\n",
       "    </tr>\n",
       "    <tr>\n",
       "      <th>80-89</th>\n",
       "      <td>11.5</td>\n",
       "      <td>NaN</td>\n",
       "      <td>NaN</td>\n",
       "    </tr>\n",
       "  </tbody>\n",
       "</table>\n",
       "</div>"
      ],
      "text/plain": [
       "Gender     F    M  diff\n",
       "Age                    \n",
       "0-20     7.8  6.6  -1.1\n",
       "20-29    7.2  6.2  -1.0\n",
       "30-39    7.7  6.7  -1.0\n",
       "40-49    8.6  7.0  -1.7\n",
       "50-59    8.9  9.6   0.7\n",
       "60-69   10.1  7.3  -2.7\n",
       "70-79   12.3  6.6  -5.7\n",
       "80-89   11.5  NaN   NaN"
      ]
     },
     "execution_count": 75,
     "metadata": {},
     "output_type": "execute_result"
    }
   ],
   "source": [
    "pace_div.round(1)"
   ]
  },
  {
   "cell_type": "code",
   "execution_count": 76,
   "id": "41236c6c",
   "metadata": {},
   "outputs": [
    {
     "data": {
      "text/plain": [
       "-1.795"
      ]
     },
     "execution_count": 76,
     "metadata": {},
     "output_type": "execute_result"
    }
   ],
   "source": [
    "pace_div['diff'].mean()"
   ]
  },
  {
   "cell_type": "code",
   "execution_count": 77,
   "id": "de8b5a98",
   "metadata": {},
   "outputs": [],
   "source": [
    "pace_div_best = df.groupby(['Age','Gender'])['pace'].min().reset_index()"
   ]
  },
  {
   "cell_type": "code",
   "execution_count": 78,
   "id": "18e2d073",
   "metadata": {},
   "outputs": [],
   "source": [
    "pace_div_best = pace_div_best.pivot(index='Age',columns='Gender',values='pace')"
   ]
  },
  {
   "cell_type": "code",
   "execution_count": 79,
   "id": "666312ce",
   "metadata": {},
   "outputs": [],
   "source": [
    "pace_div_best['diff'] = pace_div_best['M']-pace_div_best['F']"
   ]
  },
  {
   "cell_type": "code",
   "execution_count": 80,
   "id": "863f49f1",
   "metadata": {},
   "outputs": [
    {
     "data": {
      "text/html": [
       "<div>\n",
       "<style scoped>\n",
       "    .dataframe tbody tr th:only-of-type {\n",
       "        vertical-align: middle;\n",
       "    }\n",
       "\n",
       "    .dataframe tbody tr th {\n",
       "        vertical-align: top;\n",
       "    }\n",
       "\n",
       "    .dataframe thead th {\n",
       "        text-align: right;\n",
       "    }\n",
       "</style>\n",
       "<table border=\"1\" class=\"dataframe\">\n",
       "  <thead>\n",
       "    <tr style=\"text-align: right;\">\n",
       "      <th>Gender</th>\n",
       "      <th>F</th>\n",
       "      <th>M</th>\n",
       "      <th>diff</th>\n",
       "    </tr>\n",
       "    <tr>\n",
       "      <th>Age</th>\n",
       "      <th></th>\n",
       "      <th></th>\n",
       "      <th></th>\n",
       "    </tr>\n",
       "  </thead>\n",
       "  <tbody>\n",
       "    <tr>\n",
       "      <th>0-20</th>\n",
       "      <td>3.8</td>\n",
       "      <td>4.0</td>\n",
       "      <td>0.1</td>\n",
       "    </tr>\n",
       "    <tr>\n",
       "      <th>20-29</th>\n",
       "      <td>3.8</td>\n",
       "      <td>3.7</td>\n",
       "      <td>-0.0</td>\n",
       "    </tr>\n",
       "    <tr>\n",
       "      <th>30-39</th>\n",
       "      <td>3.1</td>\n",
       "      <td>3.8</td>\n",
       "      <td>0.7</td>\n",
       "    </tr>\n",
       "    <tr>\n",
       "      <th>40-49</th>\n",
       "      <td>3.8</td>\n",
       "      <td>4.6</td>\n",
       "      <td>0.7</td>\n",
       "    </tr>\n",
       "    <tr>\n",
       "      <th>50-59</th>\n",
       "      <td>3.9</td>\n",
       "      <td>3.1</td>\n",
       "      <td>-0.7</td>\n",
       "    </tr>\n",
       "    <tr>\n",
       "      <th>60-69</th>\n",
       "      <td>5.0</td>\n",
       "      <td>4.2</td>\n",
       "      <td>-0.8</td>\n",
       "    </tr>\n",
       "    <tr>\n",
       "      <th>70-79</th>\n",
       "      <td>5.3</td>\n",
       "      <td>5.5</td>\n",
       "      <td>0.2</td>\n",
       "    </tr>\n",
       "    <tr>\n",
       "      <th>80-89</th>\n",
       "      <td>10.8</td>\n",
       "      <td>NaN</td>\n",
       "      <td>NaN</td>\n",
       "    </tr>\n",
       "  </tbody>\n",
       "</table>\n",
       "</div>"
      ],
      "text/plain": [
       "Gender     F    M  diff\n",
       "Age                    \n",
       "0-20     3.8  4.0   0.1\n",
       "20-29    3.8  3.7  -0.0\n",
       "30-39    3.1  3.8   0.7\n",
       "40-49    3.8  4.6   0.7\n",
       "50-59    3.9  3.1  -0.7\n",
       "60-69    5.0  4.2  -0.8\n",
       "70-79    5.3  5.5   0.2\n",
       "80-89   10.8  NaN   NaN"
      ]
     },
     "execution_count": 80,
     "metadata": {},
     "output_type": "execute_result"
    }
   ],
   "source": [
    "pace_div_best.round(1)"
   ]
  },
  {
   "cell_type": "code",
   "execution_count": 81,
   "id": "1411dd32",
   "metadata": {},
   "outputs": [
    {
     "data": {
      "text/plain": [
       "<Axes: xlabel='Age', ylabel='pace'>"
      ]
     },
     "execution_count": 81,
     "metadata": {},
     "output_type": "execute_result"
    },
    {
     "data": {
      "image/png": "[encoded data removed]",
      "text/plain": [
       "<Figure size 640x480 with 1 Axes>"
      ]
     },
     "metadata": {},
     "output_type": "display_data"
    }
   ],
   "source": [
    "sns.boxplot(x='Age',y='pace',data=df,hue='Gender')"
   ]
  },
  {
   "cell_type": "markdown",
   "id": "f8956274",
   "metadata": {},
   "source": [
    "### LD runners"
   ]
  },
  {
   "cell_type": "code",
   "execution_count": 82,
   "id": "f9a97c77",
   "metadata": {},
   "outputs": [],
   "source": [
    "pd.set_option('display.max_columns',100)"
   ]
  },
  {
   "cell_type": "code",
   "execution_count": 83,
   "id": "10790684",
   "metadata": {},
   "outputs": [],
   "source": [
    "ld_runners = pd.read_csv('data/ld_runners.txt',header=None,delimiter=',').transpose()"
   ]
  },
  {
   "cell_type": "code",
   "execution_count": 84,
   "id": "85a9491a",
   "metadata": {},
   "outputs": [],
   "source": [
    "ld_runners = ld_runners[0].tolist()"
   ]
  },
  {
   "cell_type": "code",
   "execution_count": 85,
   "id": "a5211818",
   "metadata": {},
   "outputs": [],
   "source": [
    "df['Name'] = df['Name'].str.title()"
   ]
  },
  {
   "cell_type": "code",
   "execution_count": 86,
   "id": "df32ee3a",
   "metadata": {},
   "outputs": [],
   "source": [
    "df_ld_runners = pd.Series(ld_runners).apply(lambda x: x.split(' ')[1]+', '+x.split(' ')[0])"
   ]
  },
  {
   "cell_type": "code",
   "execution_count": 87,
   "id": "3ad2ba41",
   "metadata": {},
   "outputs": [],
   "source": [
    "ld_times = df[df['Name'].isin(df_ld_runners.tolist())].copy()"
   ]
  },
  {
   "cell_type": "code",
   "execution_count": 88,
   "id": "8283eddd",
   "metadata": {},
   "outputs": [],
   "source": [
    "ld_times.sort_values(by='pace',inplace=True)"
   ]
  },
  {
   "cell_type": "code",
   "execution_count": 89,
   "id": "aa438365",
   "metadata": {
    "scrolled": true
   },
   "outputs": [],
   "source": [
    "ld_results = ld_times.groupby(['Name','Year'])['pace'].mean().reset_index()"
   ]
  },
  {
   "cell_type": "code",
   "execution_count": 90,
   "id": "8e6f948c",
   "metadata": {
    "scrolled": false
   },
   "outputs": [],
   "source": [
    "ld_results = ld_results.pivot(index='Name',columns='Year',values='pace')"
   ]
  },
  {
   "cell_type": "code",
   "execution_count": 91,
   "id": "09b2334a",
   "metadata": {},
   "outputs": [],
   "source": [
    "ld_results.sort_values(by='2024',inplace=True)"
   ]
  },
  {
   "cell_type": "code",
   "execution_count": 92,
   "id": "5d45a544",
   "metadata": {},
   "outputs": [],
   "source": [
    "ld_results = ld_results.fillna('')"
   ]
  },
  {
   "cell_type": "code",
   "execution_count": 93,
   "id": "caae6e2b",
   "metadata": {},
   "outputs": [],
   "source": [
    "ld_results.to_clipboard()"
   ]
  },
  {
   "cell_type": "code",
   "execution_count": null,
   "id": "b0a45302",
   "metadata": {},
   "outputs": [],
   "source": []
  }
 ],
 "metadata": {
  "kernelspec": {
   "display_name": "Python 3 (ipykernel)",
   "language": "python",
   "name": "python3"
  },
  "language_info": {
   "codemirror_mode": {
    "name": "ipython",
    "version": 3
   },
   "file_extension": ".py",
   "mimetype": "text/x-python",
   "name": "python",
   "nbconvert_exporter": "python",
   "pygments_lexer": "ipython3",
   "version": "3.9.16"
  }
 },
 "nbformat": 4,
 "nbformat_minor": 5
}
